{
  "nbformat": 4,
  "nbformat_minor": 0,
  "metadata": {
    "colab": {
      "provenance": []
    },
    "kernelspec": {
      "name": "python3",
      "display_name": "Python 3"
    },
    "language_info": {
      "name": "python"
    }
  },
  "cells": [
    {
      "cell_type": "code",
      "execution_count": 1,
      "metadata": {
        "id": "BKnOgMdvANsR"
      },
      "outputs": [],
      "source": [
        "import geopandas as gpd\n",
        "import pandas as pd\n",
        "import matplotlib.pyplot as plt\n",
        "\n",
        "beat = \"/content/drive/Shareddrives/DAT 490 Capstone/DAT 490 Capstone/location demographic shapefiles/beat_map.geojson\"\n",
        "precinct = \"/content/drive/Shareddrives/DAT 490 Capstone/DAT 490 Capstone/location demographic shapefiles/precinct_map.geojson\"\n",
        "beat_precinct_list = \"/content/drive/Shareddrives/DAT 490 Capstone/DAT 490 Capstone/location demographic shapefiles/precinct_beat_list.csv\"\n",
        "\n",
        "beat_gdf = gpd.read_file(beat)\n",
        "precinct_gdf = gpd.read_file(precinct)\n",
        "list_df = pd.read_csv(beat_precinct_list)"
      ]
    },
    {
      "cell_type": "code",
      "source": [
        "list_df = list_df.drop(list_df.columns[[0]], axis=1)"
      ],
      "metadata": {
        "id": "b1pT1wNrS0me"
      },
      "execution_count": 2,
      "outputs": []
    },
    {
      "cell_type": "code",
      "source": [
        "beat_gdf = beat_gdf.merge(list_df, on='BEAT', how='left')"
      ],
      "metadata": {
        "id": "39BhVwxPVN2s"
      },
      "execution_count": 3,
      "outputs": []
    },
    {
      "cell_type": "code",
      "source": [
        "precinct_names = ['P-' + col for col in precinct_gdf.columns]\n",
        "precinct_gdf.columns = precinct_names"
      ],
      "metadata": {
        "id": "dzCyEZNIZvT2"
      },
      "execution_count": 4,
      "outputs": []
    },
    {
      "cell_type": "code",
      "source": [
        "beat_names = ['B-' + col for col in beat_gdf.columns]\n",
        "beat_gdf.columns = beat_names"
      ],
      "metadata": {
        "id": "jGzW4XaCaFIp"
      },
      "execution_count": 5,
      "outputs": []
    },
    {
      "cell_type": "code",
      "source": [
        "uof = \"/content/drive/Shareddrives/DAT 490 Capstone/DAT 490 Capstone/EDA/CPhoenix UOF Data/relabeled/cleaned_2-uof-incident-details.csv\"\n",
        "uof_df = pd.read_csv(uof, header=0)\n",
        "\n",
        "uof_df = uof_df[~uof_df['Police Beat'].isin({'Maricopa', 'Out of City Beat'})]\n",
        "uof_df['Police Beat'] = uof_df['Police Beat'].str[:3]\n",
        "uof_df['Police Beat'] = uof_df['Police Beat'].astype(int)"
      ],
      "metadata": {
        "id": "IGeIKFmXWGNe"
      },
      "execution_count": 6,
      "outputs": []
    },
    {
      "cell_type": "code",
      "source": [
        "maryvale = ['Maryvale/Estrella Precinct', 'Maryvale/Estrella Mountain Precinct Precinct']\n",
        "mountain_view = ['Mountain View Precinct', 'Mountain View Precinct Precinct']\n",
        "cactus_park = ['Cactus Park Precinct', 'Cactus Park Precinct Precinct']\n",
        "desert_horizon = ['Desert Horizon Precinct', 'Desert Horizon Precinct Precinct']\n",
        "south_mountain = ['South Mountain Precinct', 'South Mountain Precinct Precinct']\n",
        "central = ['Central City Precinct Precinct', 'Central City Precinct']\n",
        "black_mountain = ['Black Mountain Precinct', 'Black Mountain Precinct Precinct']\n",
        "\n",
        "uof_df['is Maryvale/Estrella Precinct'] = uof_df['Police Precinct'].isin(maryvale).astype(int)\n",
        "uof_df['is Mountain View Precinct'] = uof_df['Police Precinct'].isin(mountain_view).astype(int)\n",
        "uof_df['is Cactus Park Precinct'] = uof_df['Police Precinct'].isin(cactus_park).astype(int)\n",
        "uof_df['is Desert Horizon Precinct'] = uof_df['Police Precinct'].isin(desert_horizon).astype(int)\n",
        "uof_df['is South Mountain Precinct'] = uof_df['Police Precinct'].isin(south_mountain).astype(int)\n",
        "uof_df['is Central City Precinct'] = uof_df['Police Precinct'].isin(central).astype(int)\n",
        "uof_df['is Black Mountain Precinct'] = uof_df['Police Precinct'].isin(black_mountain).astype(int)\n",
        "\n",
        "def precinct(name):\n",
        "    if name in maryvale:\n",
        "        return 'Maryvale/Estrella Precinct'\n",
        "    elif name in mountain_view:\n",
        "        return 'Mountain View Precinct'\n",
        "    elif name in cactus_park:\n",
        "        return 'Cactus Park Precinct'\n",
        "    elif name in desert_horizon:\n",
        "        return 'Desert Horizon Precinct'\n",
        "    elif name in south_mountain:\n",
        "        return 'South Mountain Precinct'\n",
        "    elif name in central:\n",
        "        return 'Central City Precinct'\n",
        "    elif name in black_mountain:\n",
        "        return 'Black Mountain Precinct'\n",
        "\n",
        "uof_df['Precinct2'] = uof_df['Police Precinct'].apply(precinct)"
      ],
      "metadata": {
        "id": "w4ag-Wlgd_0K"
      },
      "execution_count": 7,
      "outputs": []
    },
    {
      "cell_type": "code",
      "source": [
        "severe_force_binaries = uof_df.iloc[:, 30:38].sum(axis=1)\n",
        "uof_df['Severe Force Used'] = (severe_force_binaries >= 1).astype(int)"
      ],
      "metadata": {
        "id": "LuJYrzlZWUMX"
      },
      "execution_count": 8,
      "outputs": []
    },
    {
      "cell_type": "code",
      "source": [
        "very_severe_force_binaries = uof_df.iloc[:, 30:34].sum(axis=1)\n",
        "uof_df['Very Severe Force Used'] = (very_severe_force_binaries >= 1).astype(int)"
      ],
      "metadata": {
        "id": "OgxPX_6gW2LJ"
      },
      "execution_count": 9,
      "outputs": []
    },
    {
      "cell_type": "code",
      "source": [
        "lots_o_data = uof_df.merge(beat_gdf, left_on = 'Police Beat', right_on='B-BEAT', how='left')"
      ],
      "metadata": {
        "id": "R4XzhaC8XZz7"
      },
      "execution_count": 10,
      "outputs": []
    },
    {
      "cell_type": "code",
      "source": [
        "lots_o_data = lots_o_data.merge(precinct_gdf, left_on = 'Precinct2', right_on='P-NAME', how='left')"
      ],
      "metadata": {
        "id": "NIw9gR5obfSd"
      },
      "execution_count": 11,
      "outputs": []
    },
    {
      "cell_type": "code",
      "source": [
        "lots_o_data.info()"
      ],
      "metadata": {
        "colab": {
          "base_uri": "https://localhost:8080/"
        },
        "id": "dwEPnKM8aZuu",
        "outputId": "415a4da9-d8e3-427b-b0d2-141d932d2026"
      },
      "execution_count": 12,
      "outputs": [
        {
          "output_type": "stream",
          "name": "stdout",
          "text": [
            "<class 'pandas.core.frame.DataFrame'>\n",
            "RangeIndex: 8638 entries, 0 to 8637\n",
            "Columns: 115 entries, Incident Report Number to P-geometry\n",
            "dtypes: float64(35), geometry(2), int64(62), object(16)\n",
            "memory usage: 7.6+ MB\n"
          ]
        }
      ]
    },
    {
      "cell_type": "code",
      "source": [
        "necessary = [4,5,6,7,10,11,15,16,17,18,19,20,21,22,23,24,25,26,27,28,29,40,41,42,43,44,45,46,54,57,59,65,76,79,87,90,92,98,109,112,48,49]\n",
        "\n",
        "reduced = lots_o_data.iloc[:, necessary]"
      ],
      "metadata": {
        "id": "1RwCjDtRmRhk"
      },
      "execution_count": 13,
      "outputs": []
    },
    {
      "cell_type": "code",
      "source": [
        "from sklearn.preprocessing import OneHotEncoder\n",
        "\n",
        "day_encoder = OneHotEncoder()\n",
        "day_1hot = day_encoder.fit_transform(reduced[['Day of Week']])\n",
        "\n",
        "day_1hot = day_encoder.transform(reduced[['Day of Week']]).toarray()\n",
        "outs = pd.DataFrame(day_1hot, columns = day_encoder.get_feature_names_out(), index = reduced.index)"
      ],
      "metadata": {
        "id": "8CkbuaumodOh"
      },
      "execution_count": 14,
      "outputs": []
    },
    {
      "cell_type": "code",
      "source": [
        "reduced = reduced.merge(outs, left_index=True, right_index=True)"
      ],
      "metadata": {
        "id": "lBHO_hSpo8jB"
      },
      "execution_count": 15,
      "outputs": []
    },
    {
      "cell_type": "code",
      "source": [
        "igender_encoder = OneHotEncoder()\n",
        "igender_1hot = igender_encoder.fit_transform(reduced[['Individual Gender']])\n",
        "\n",
        "igender_1hot = igender_encoder.transform(reduced[['Individual Gender']]).toarray()\n",
        "outs = pd.DataFrame(igender_1hot, columns = igender_encoder.get_feature_names_out(), index = reduced.index)"
      ],
      "metadata": {
        "id": "xBcaGlBgpBuF"
      },
      "execution_count": 16,
      "outputs": []
    },
    {
      "cell_type": "code",
      "source": [
        "reduced = reduced.merge(outs, left_index=True, right_index=True)"
      ],
      "metadata": {
        "id": "xPfw7L8ip0XN"
      },
      "execution_count": 17,
      "outputs": []
    },
    {
      "cell_type": "code",
      "source": [
        "pgender_encoder = OneHotEncoder()\n",
        "pgender_1hot = pgender_encoder.fit_transform(reduced[['Police Employee Gender / Sex']])\n",
        "\n",
        "pgender_1hot = pgender_encoder.transform(reduced[['Police Employee Gender / Sex']]).toarray()\n",
        "outs = pd.DataFrame(pgender_1hot, columns = pgender_encoder.get_feature_names_out(), index = reduced.index)"
      ],
      "metadata": {
        "id": "rfagdXlnp5Iw"
      },
      "execution_count": 18,
      "outputs": []
    },
    {
      "cell_type": "code",
      "source": [
        "reduced = reduced.merge(outs, left_index=True, right_index=True)"
      ],
      "metadata": {
        "id": "PcDULJNK-7yC"
      },
      "execution_count": 19,
      "outputs": []
    },
    {
      "cell_type": "code",
      "source": [
        "irace_encoder = OneHotEncoder()\n",
        "irace_1hot = irace_encoder.fit_transform(reduced[['Individual Race / Ethnicity Grouping']])\n",
        "\n",
        "irace_1hot = irace_encoder.transform(reduced[['Individual Race / Ethnicity Grouping']]).toarray()\n",
        "outs = pd.DataFrame(irace_1hot, columns = irace_encoder.get_feature_names_out(), index = reduced.index)"
      ],
      "metadata": {
        "id": "SZ-wDDDS__7E"
      },
      "execution_count": 20,
      "outputs": []
    },
    {
      "cell_type": "code",
      "source": [
        "reduced = reduced.merge(outs, left_index=True, right_index=True)"
      ],
      "metadata": {
        "id": "GE_0AYj7ARws"
      },
      "execution_count": 21,
      "outputs": []
    },
    {
      "cell_type": "code",
      "source": [
        "prace_encoder = OneHotEncoder()\n",
        "prace_1hot = prace_encoder.fit_transform(reduced[['Police Employee Race / Ethnicity Grouping']])\n",
        "\n",
        "prace_1hot = prace_encoder.transform(reduced[['Police Employee Race / Ethnicity Grouping']]).toarray()\n",
        "outs = pd.DataFrame(prace_1hot, columns = prace_encoder.get_feature_names_out(), index = reduced.index)"
      ],
      "metadata": {
        "id": "s-ouE5YCAS49"
      },
      "execution_count": 22,
      "outputs": []
    },
    {
      "cell_type": "code",
      "source": [
        "reduced = reduced.merge(outs, left_index=True, right_index=True)"
      ],
      "metadata": {
        "id": "okyPAlLwAdDX"
      },
      "execution_count": 23,
      "outputs": []
    },
    {
      "cell_type": "code",
      "source": [
        "year_encoder = OneHotEncoder()\n",
        "year_1hot = year_encoder.fit_transform(reduced[['Year']])\n",
        "\n",
        "year_1hot = year_encoder.transform(reduced[['Year']]).toarray()\n",
        "outs = pd.DataFrame(year_1hot, columns = year_encoder.get_feature_names_out(), index = reduced.index)"
      ],
      "metadata": {
        "id": "Lh-SdhbU_cOT"
      },
      "execution_count": 24,
      "outputs": []
    },
    {
      "cell_type": "code",
      "source": [
        "reduced = reduced.merge(outs, left_index=True, right_index=True)"
      ],
      "metadata": {
        "id": "V_ZGOPsFA9q4"
      },
      "execution_count": 25,
      "outputs": []
    },
    {
      "cell_type": "code",
      "source": [
        "beat_encoder = OneHotEncoder()\n",
        "beat_1hot = beat_encoder.fit_transform(reduced[['Police Beat']])\n",
        "\n",
        "beat_1hot = beat_encoder.transform(reduced[['Police Beat']]).toarray()\n",
        "outs = pd.DataFrame(beat_1hot, columns = beat_encoder.get_feature_names_out(), index = reduced.index)"
      ],
      "metadata": {
        "id": "FHhyUBPRa54g"
      },
      "execution_count": 26,
      "outputs": []
    },
    {
      "cell_type": "code",
      "source": [
        "reduced = reduced.merge(outs, left_index=True, right_index=True)"
      ],
      "metadata": {
        "id": "WqLSnxe_a6qv"
      },
      "execution_count": 27,
      "outputs": []
    },
    {
      "cell_type": "code",
      "source": [
        "elim = [0,2,3,4,6,7,8,31,33,37,39]\n",
        "others = [col for index, col in enumerate(reduced.columns) if index not in elim]\n",
        "\n",
        "more_reduced = reduced[others]"
      ],
      "metadata": {
        "id": "anRpBH3JdBbx"
      },
      "execution_count": 29,
      "outputs": []
    },
    {
      "cell_type": "code",
      "source": [
        "select = list(range(0, 14)) + list(range(21, 29)) + list(range(31,59))\n",
        "first = more_reduced.iloc[:, select]"
      ],
      "metadata": {
        "id": "84jMYdVaeKKE"
      },
      "execution_count": 31,
      "outputs": []
    },
    {
      "cell_type": "code",
      "source": [
        "select2 = list(range(0, 29)) + list(range(31, 150))\n",
        "second = more_reduced.iloc[:, select2]"
      ],
      "metadata": {
        "id": "Hh6uERBhjF_p"
      },
      "execution_count": 80,
      "outputs": []
    },
    {
      "cell_type": "code",
      "source": [
        "#no info rate - Severe Force used 58.8%, Very Severe Force used 26.5%"
      ],
      "metadata": {
        "id": "wFQBjQYsEWB_"
      },
      "execution_count": 36,
      "outputs": []
    },
    {
      "cell_type": "code",
      "source": [
        "from sklearn.model_selection import train_test_split\n",
        "\n",
        "X_train, X_test, y_train, y_test = train_test_split(first, more_reduced[['Severe Force Used']], test_size=.2, random_state=55)"
      ],
      "metadata": {
        "id": "VUde67oEDrHl"
      },
      "execution_count": 37,
      "outputs": []
    },
    {
      "cell_type": "code",
      "source": [
        "cont_vars = X_train[[\"Hour\", \"B-Poverty Rate\", \"B-Black Pop Rate\", \"B-Hispanic Pop Rate\", \"B-Violent Arrests per 100k\", \"P-Poverty Rate\",\n",
        "                    \"P-Black Pop Rate\", \"P-Hispanic Pop Rate\", \"P-Violent Arrests per 100k\", \"Individual Age\"]]"
      ],
      "metadata": {
        "id": "4p578dWVFyxg"
      },
      "execution_count": 38,
      "outputs": []
    },
    {
      "cell_type": "code",
      "source": [
        "from sklearn.preprocessing import StandardScaler\n",
        "\n",
        "std_scaler = StandardScaler()\n",
        "\n",
        "X_train_subset = cont_vars\n",
        "X_train_scaled = std_scaler.fit_transform(X_train_subset)\n",
        "\n",
        "X_train_subset_std_scaled = std_scaler.fit_transform(X_train_subset)\n",
        "\n",
        "X_train[[\"Hour\", \"B-Poverty Rate\", \"B-Black Pop Rate\", \"B-Hispanic Pop Rate\", \"B-Violent Arrests per 100k\", \"P-Poverty Rate\",\n",
        "                    \"P-Black Pop Rate\", \"P-Hispanic Pop Rate\", \"P-Violent Arrests per 100k\", \"Individual Age\"]] = pd.DataFrame(X_train_subset_std_scaled, columns = X_train_subset.columns,index = X_train_subset.index)\n"
      ],
      "metadata": {
        "id": "S5__D6pCE4MB"
      },
      "execution_count": 39,
      "outputs": []
    },
    {
      "cell_type": "code",
      "source": [
        "X_test_subset = X_test[[\"Hour\", \"B-Poverty Rate\", \"B-Black Pop Rate\", \"B-Hispanic Pop Rate\", \"B-Violent Arrests per 100k\", \"P-Poverty Rate\",\n",
        "                    \"P-Black Pop Rate\", \"P-Hispanic Pop Rate\", \"P-Violent Arrests per 100k\", \"Individual Age\"]]\n",
        "\n",
        "X_test_subset_std_scaled = std_scaler.transform(X_test_subset)\n",
        "\n",
        "X_test[[\"Hour\", \"B-Poverty Rate\", \"B-Black Pop Rate\", \"B-Hispanic Pop Rate\", \"B-Violent Arrests per 100k\", \"P-Poverty Rate\",\n",
        "                    \"P-Black Pop Rate\", \"P-Hispanic Pop Rate\", \"P-Violent Arrests per 100k\", \"Individual Age\"]] = pd.DataFrame(X_test_subset_std_scaled, columns = X_test_subset.columns, index = X_test_subset.index)"
      ],
      "metadata": {
        "id": "OlJrZlLkGaJH"
      },
      "execution_count": 40,
      "outputs": []
    },
    {
      "cell_type": "code",
      "source": [
        "import numpy as np\n",
        "\n",
        "y_train = np.ravel(y_train)\n",
        "y_test = np.ravel(y_test)"
      ],
      "metadata": {
        "id": "VRUP0UKnIIJ5"
      },
      "execution_count": 41,
      "outputs": []
    },
    {
      "cell_type": "code",
      "source": [
        "from sklearn.linear_model import LogisticRegression\n",
        "\n",
        "lr_first = LogisticRegression(random_state=55, penalty='l2', max_iter=1000)\n",
        "lr_first.fit(X_train, y_train)\n",
        "y_pred_lr = lr_first.predict(X_train)"
      ],
      "metadata": {
        "id": "g2hx0JYCHCZf"
      },
      "execution_count": 42,
      "outputs": []
    },
    {
      "cell_type": "code",
      "source": [
        "from sklearn.metrics import accuracy_score\n",
        "\n",
        "accuracy_score(y_train, y_pred_lr)"
      ],
      "metadata": {
        "colab": {
          "base_uri": "https://localhost:8080/"
        },
        "id": "e_Zj_UxlHXsh",
        "outputId": "ce8afb23-f576-4739-d921-726901e0e659"
      },
      "execution_count": 43,
      "outputs": [
        {
          "output_type": "execute_result",
          "data": {
            "text/plain": [
              "0.6593342981186686"
            ]
          },
          "metadata": {},
          "execution_count": 43
        }
      ]
    },
    {
      "cell_type": "code",
      "source": [
        "from sklearn.metrics import confusion_matrix\n",
        "\n",
        "# [TN, FP]\n",
        "# [FN, TP]\n",
        "\n",
        "cm = confusion_matrix(y_train, y_pred_lr)\n",
        "print(cm)"
      ],
      "metadata": {
        "colab": {
          "base_uri": "https://localhost:8080/"
        },
        "id": "xZ4vbD9j6ciW",
        "outputId": "bed0cc87-85bd-4b8e-b896-cfe1b87b8a0f"
      },
      "execution_count": 44,
      "outputs": [
        {
          "output_type": "stream",
          "name": "stdout",
          "text": [
            "[[1365 1484]\n",
            " [ 870 3191]]\n"
          ]
        }
      ]
    },
    {
      "cell_type": "code",
      "source": [
        "from sklearn.model_selection import cross_val_score\n",
        "\n",
        "logit_cval = cross_val_score(lr_first, X_train, y_train, scoring=\"accuracy\", cv=10)\n",
        "print(logit_cval)\n",
        "print(logit_cval.mean())"
      ],
      "metadata": {
        "colab": {
          "base_uri": "https://localhost:8080/"
        },
        "id": "FYKqDnsxHo_J",
        "outputId": "6a5d73f0-1580-4fe6-bf3f-967a33210cda"
      },
      "execution_count": 45,
      "outputs": [
        {
          "output_type": "stream",
          "name": "stdout",
          "text": [
            "[0.63096961 0.62228654 0.67004342 0.67583213 0.64833575 0.64399421\n",
            " 0.6512301  0.65991317 0.65267728 0.69464544]\n",
            "0.6549927641099855\n"
          ]
        }
      ]
    },
    {
      "cell_type": "code",
      "source": [
        "from sklearn.model_selection import GridSearchCV\n",
        "\n",
        "params2 = {'C': [0.01, 0.05, 0.1, 0.5, 1, 2, 5, 10]}\n",
        "\n",
        "lr_first2 = LogisticRegression(random_state=55, penalty='l2', max_iter=1000)\n",
        "\n",
        "grid_search2 = GridSearchCV(lr_first2, params2, cv=10)\n",
        "grid_search2.fit(X_train, y_train)"
      ],
      "metadata": {
        "colab": {
          "base_uri": "https://localhost:8080/",
          "height": 118
        },
        "id": "ekhGjIGPIduA",
        "outputId": "81abe3e6-3cc3-486f-e76b-b2d72deab7ac"
      },
      "execution_count": 46,
      "outputs": [
        {
          "output_type": "execute_result",
          "data": {
            "text/plain": [
              "GridSearchCV(cv=10,\n",
              "             estimator=LogisticRegression(max_iter=1000, random_state=55),\n",
              "             param_grid={'C': [0.01, 0.05, 0.1, 0.5, 1, 2, 5, 10]})"
            ],
            "text/html": [
              "<style>#sk-container-id-1 {color: black;background-color: white;}#sk-container-id-1 pre{padding: 0;}#sk-container-id-1 div.sk-toggleable {background-color: white;}#sk-container-id-1 label.sk-toggleable__label {cursor: pointer;display: block;width: 100%;margin-bottom: 0;padding: 0.3em;box-sizing: border-box;text-align: center;}#sk-container-id-1 label.sk-toggleable__label-arrow:before {content: \"▸\";float: left;margin-right: 0.25em;color: #696969;}#sk-container-id-1 label.sk-toggleable__label-arrow:hover:before {color: black;}#sk-container-id-1 div.sk-estimator:hover label.sk-toggleable__label-arrow:before {color: black;}#sk-container-id-1 div.sk-toggleable__content {max-height: 0;max-width: 0;overflow: hidden;text-align: left;background-color: #f0f8ff;}#sk-container-id-1 div.sk-toggleable__content pre {margin: 0.2em;color: black;border-radius: 0.25em;background-color: #f0f8ff;}#sk-container-id-1 input.sk-toggleable__control:checked~div.sk-toggleable__content {max-height: 200px;max-width: 100%;overflow: auto;}#sk-container-id-1 input.sk-toggleable__control:checked~label.sk-toggleable__label-arrow:before {content: \"▾\";}#sk-container-id-1 div.sk-estimator input.sk-toggleable__control:checked~label.sk-toggleable__label {background-color: #d4ebff;}#sk-container-id-1 div.sk-label input.sk-toggleable__control:checked~label.sk-toggleable__label {background-color: #d4ebff;}#sk-container-id-1 input.sk-hidden--visually {border: 0;clip: rect(1px 1px 1px 1px);clip: rect(1px, 1px, 1px, 1px);height: 1px;margin: -1px;overflow: hidden;padding: 0;position: absolute;width: 1px;}#sk-container-id-1 div.sk-estimator {font-family: monospace;background-color: #f0f8ff;border: 1px dotted black;border-radius: 0.25em;box-sizing: border-box;margin-bottom: 0.5em;}#sk-container-id-1 div.sk-estimator:hover {background-color: #d4ebff;}#sk-container-id-1 div.sk-parallel-item::after {content: \"\";width: 100%;border-bottom: 1px solid gray;flex-grow: 1;}#sk-container-id-1 div.sk-label:hover label.sk-toggleable__label {background-color: #d4ebff;}#sk-container-id-1 div.sk-serial::before {content: \"\";position: absolute;border-left: 1px solid gray;box-sizing: border-box;top: 0;bottom: 0;left: 50%;z-index: 0;}#sk-container-id-1 div.sk-serial {display: flex;flex-direction: column;align-items: center;background-color: white;padding-right: 0.2em;padding-left: 0.2em;position: relative;}#sk-container-id-1 div.sk-item {position: relative;z-index: 1;}#sk-container-id-1 div.sk-parallel {display: flex;align-items: stretch;justify-content: center;background-color: white;position: relative;}#sk-container-id-1 div.sk-item::before, #sk-container-id-1 div.sk-parallel-item::before {content: \"\";position: absolute;border-left: 1px solid gray;box-sizing: border-box;top: 0;bottom: 0;left: 50%;z-index: -1;}#sk-container-id-1 div.sk-parallel-item {display: flex;flex-direction: column;z-index: 1;position: relative;background-color: white;}#sk-container-id-1 div.sk-parallel-item:first-child::after {align-self: flex-end;width: 50%;}#sk-container-id-1 div.sk-parallel-item:last-child::after {align-self: flex-start;width: 50%;}#sk-container-id-1 div.sk-parallel-item:only-child::after {width: 0;}#sk-container-id-1 div.sk-dashed-wrapped {border: 1px dashed gray;margin: 0 0.4em 0.5em 0.4em;box-sizing: border-box;padding-bottom: 0.4em;background-color: white;}#sk-container-id-1 div.sk-label label {font-family: monospace;font-weight: bold;display: inline-block;line-height: 1.2em;}#sk-container-id-1 div.sk-label-container {text-align: center;}#sk-container-id-1 div.sk-container {/* jupyter's `normalize.less` sets `[hidden] { display: none; }` but bootstrap.min.css set `[hidden] { display: none !important; }` so we also need the `!important` here to be able to override the default hidden behavior on the sphinx rendered scikit-learn.org. See: https://github.com/scikit-learn/scikit-learn/issues/21755 */display: inline-block !important;position: relative;}#sk-container-id-1 div.sk-text-repr-fallback {display: none;}</style><div id=\"sk-container-id-1\" class=\"sk-top-container\"><div class=\"sk-text-repr-fallback\"><pre>GridSearchCV(cv=10,\n",
              "             estimator=LogisticRegression(max_iter=1000, random_state=55),\n",
              "             param_grid={&#x27;C&#x27;: [0.01, 0.05, 0.1, 0.5, 1, 2, 5, 10]})</pre><b>In a Jupyter environment, please rerun this cell to show the HTML representation or trust the notebook. <br />On GitHub, the HTML representation is unable to render, please try loading this page with nbviewer.org.</b></div><div class=\"sk-container\" hidden><div class=\"sk-item sk-dashed-wrapped\"><div class=\"sk-label-container\"><div class=\"sk-label sk-toggleable\"><input class=\"sk-toggleable__control sk-hidden--visually\" id=\"sk-estimator-id-1\" type=\"checkbox\" ><label for=\"sk-estimator-id-1\" class=\"sk-toggleable__label sk-toggleable__label-arrow\">GridSearchCV</label><div class=\"sk-toggleable__content\"><pre>GridSearchCV(cv=10,\n",
              "             estimator=LogisticRegression(max_iter=1000, random_state=55),\n",
              "             param_grid={&#x27;C&#x27;: [0.01, 0.05, 0.1, 0.5, 1, 2, 5, 10]})</pre></div></div></div><div class=\"sk-parallel\"><div class=\"sk-parallel-item\"><div class=\"sk-item\"><div class=\"sk-label-container\"><div class=\"sk-label sk-toggleable\"><input class=\"sk-toggleable__control sk-hidden--visually\" id=\"sk-estimator-id-2\" type=\"checkbox\" ><label for=\"sk-estimator-id-2\" class=\"sk-toggleable__label sk-toggleable__label-arrow\">estimator: LogisticRegression</label><div class=\"sk-toggleable__content\"><pre>LogisticRegression(max_iter=1000, random_state=55)</pre></div></div></div><div class=\"sk-serial\"><div class=\"sk-item\"><div class=\"sk-estimator sk-toggleable\"><input class=\"sk-toggleable__control sk-hidden--visually\" id=\"sk-estimator-id-3\" type=\"checkbox\" ><label for=\"sk-estimator-id-3\" class=\"sk-toggleable__label sk-toggleable__label-arrow\">LogisticRegression</label><div class=\"sk-toggleable__content\"><pre>LogisticRegression(max_iter=1000, random_state=55)</pre></div></div></div></div></div></div></div></div></div></div>"
            ]
          },
          "metadata": {},
          "execution_count": 46
        }
      ]
    },
    {
      "cell_type": "code",
      "source": [
        "print(grid_search2.best_params_)"
      ],
      "metadata": {
        "colab": {
          "base_uri": "https://localhost:8080/"
        },
        "id": "VmLIO2ASIskW",
        "outputId": "cb266f54-fae9-4de3-a391-6456dafcf080"
      },
      "execution_count": 47,
      "outputs": [
        {
          "output_type": "stream",
          "name": "stdout",
          "text": [
            "{'C': 0.1}\n"
          ]
        }
      ]
    },
    {
      "cell_type": "code",
      "source": [
        "plt.plot(params2['C'], grid_search2.cv_results_['mean_test_score'])\n",
        "\n",
        "plt.xlabel('C value')\n",
        "plt.ylabel('Accuracy')"
      ],
      "metadata": {
        "colab": {
          "base_uri": "https://localhost:8080/",
          "height": 466
        },
        "id": "Bo7r4Q88IxuU",
        "outputId": "d2831fc5-e67f-4f29-915d-710e5b3e9bf6"
      },
      "execution_count": 48,
      "outputs": [
        {
          "output_type": "execute_result",
          "data": {
            "text/plain": [
              "Text(0, 0.5, 'Accuracy')"
            ]
          },
          "metadata": {},
          "execution_count": 48
        },
        {
          "output_type": "display_data",
          "data": {
            "text/plain": [
              "<Figure size 640x480 with 1 Axes>"
            ],
            "image/png": "[encoded data removed]"
          },
          "metadata": {}
        }
      ]
    },
    {
      "cell_type": "code",
      "source": [
        "new_lr = grid_search2.best_estimator_\n",
        "y_pred_new2 = new_lr.predict(X_train)\n",
        "\n",
        "accuracy2 = accuracy_score(y_train, y_pred_new2)\n",
        "print(accuracy2)"
      ],
      "metadata": {
        "colab": {
          "base_uri": "https://localhost:8080/"
        },
        "id": "HVIs9K5vJBS0",
        "outputId": "ce3ef068-43da-4fd5-ff61-40ca8c304998"
      },
      "execution_count": 49,
      "outputs": [
        {
          "output_type": "stream",
          "name": "stdout",
          "text": [
            "0.6594790159189581\n"
          ]
        }
      ]
    },
    {
      "cell_type": "code",
      "source": [
        "coefs = new_lr.coef_[0]\n",
        "\n",
        "coef_values = list(zip(X_train.columns, coefs))\n",
        "sorted_coefs = sorted(coef_values, key=lambda x: abs(x[1]), reverse=True)\n",
        "\n",
        "\n",
        "for vars, coefs in sorted_coefs:\n",
        "    print(str(vars) + \", \" + str(round(coefs,4)))"
      ],
      "metadata": {
        "colab": {
          "base_uri": "https://localhost:8080/"
        },
        "id": "gEvAzNxpI9JB",
        "outputId": "5c955689-243e-4195-8b74-4f445c0f62a5"
      },
      "execution_count": 50,
      "outputs": [
        {
          "output_type": "stream",
          "name": "stdout",
          "text": [
            "Individual Armed with - Cutting Instrument, 0.775\n",
            "Individual Resistance -Active Resistance, -0.7327\n",
            "Individual Resistance - Aggravated Active Aggression, 0.5566\n",
            "Individual Armed With -Gun, 0.553\n",
            "Individual Armed With - Other, 0.5497\n",
            "Individual Resistance -Active Aggression, 0.5197\n",
            "Individual Armed With - No Weapon, -0.4955\n",
            "Individual Gender_Female, -0.3602\n",
            "Individual Resistance -Passive Resistance, -0.3444\n",
            "Individual Armed With - Blunt Instrument, 0.3373\n",
            "Individual Gender_Male, 0.306\n",
            "P-Hispanic Pop Rate, 0.254\n",
            "P-Violent Arrests per 100k, -0.2244\n",
            "P-Poverty Rate, 0.2151\n",
            "Year_2019, -0.195\n",
            "Year_2020, -0.1916\n",
            "Police Employee Race / Ethnicity Grouping_Other, 0.1782\n",
            "P-Black Pop Rate, -0.1622\n",
            "Year_2022, 0.1478\n",
            "Individual Resistance -Verbal Non Compliance, -0.145\n",
            "Police Employee Race / Ethnicity Grouping_Hispanic, -0.138\n",
            "Individual Resistance -Psychological Intimidation, 0.1367\n",
            "Day of Week_4-WEDNESDAY, -0.135\n",
            "Individual Race / Ethnicity Grouping_Hispanic, 0.1304\n",
            "Year_2021, 0.1238\n",
            "Day of Week_3-TUESDAY, 0.1191\n",
            "Day of Week_1-SUNDAY, -0.1123\n",
            "Year_2023, 0.1006\n",
            "Day of Week_5-THURSDAY, 0.0756\n",
            "Day of Week_4-WEDNESSDAY, 0.0668\n",
            "B-Black Pop Rate, 0.0614\n",
            "Police Employee Gender / Sex_Female, -0.0586\n",
            "Police Employee Gender / Sex_Male, 0.0578\n",
            "Individual Age, -0.0557\n",
            "Individual Race / Ethnicity Grouping_Other, -0.0556\n",
            "Year_2017, 0.0543\n",
            "Individual Gender_Unknown, 0.0534\n",
            "B-Violent Arrests per 100k, -0.0465\n",
            "Individual Race / Ethnicity Grouping_White, -0.0445\n",
            "Police Employee Race / Ethnicity Grouping_White, -0.0428\n",
            "Year_2018, -0.0406\n",
            "Individual Race / Ethnicity Grouping_Black or African American, -0.0311\n",
            "Day of Week_2-MONDAY, 0.0272\n",
            "B-Poverty Rate, 0.0242\n",
            "Day of Week_7-SATURDAY, -0.0233\n",
            "Day of Week_6-FRIDAY, -0.0189\n",
            "Hour, -0.0117\n",
            "B-Hispanic Pop Rate, -0.0088\n",
            "Police Employee Race / Ethnicity Grouping_Black or African American, 0.0019\n",
            "Individual Resistance - None, 0.0\n"
          ]
        }
      ]
    },
    {
      "cell_type": "code",
      "source": [
        "force_prob_lr = new_lr.predict_proba(X_train)\n",
        "force_prob_lr[:20]"
      ],
      "metadata": {
        "colab": {
          "base_uri": "https://localhost:8080/"
        },
        "id": "Vt3nlAzOJn3f",
        "outputId": "acdd7219-549b-4c7b-d797-8f6a1a4bd2f9"
      },
      "execution_count": 51,
      "outputs": [
        {
          "output_type": "execute_result",
          "data": {
            "text/plain": [
              "array([[0.40345293, 0.59654707],\n",
              "       [0.33850601, 0.66149399],\n",
              "       [0.32777492, 0.67222508],\n",
              "       [0.27874656, 0.72125344],\n",
              "       [0.43986659, 0.56013341],\n",
              "       [0.32250785, 0.67749215],\n",
              "       [0.357898  , 0.642102  ],\n",
              "       [0.56092252, 0.43907748],\n",
              "       [0.25945737, 0.74054263],\n",
              "       [0.26328438, 0.73671562],\n",
              "       [0.59784016, 0.40215984],\n",
              "       [0.31782561, 0.68217439],\n",
              "       [0.60877408, 0.39122592],\n",
              "       [0.78118431, 0.21881569],\n",
              "       [0.23624236, 0.76375764],\n",
              "       [0.38682486, 0.61317514],\n",
              "       [0.31835143, 0.68164857],\n",
              "       [0.85029907, 0.14970093],\n",
              "       [0.46874889, 0.53125111],\n",
              "       [0.68311451, 0.31688549]])"
            ]
          },
          "metadata": {},
          "execution_count": 51
        }
      ]
    },
    {
      "cell_type": "code",
      "source": [
        "y_pred_last = new_lr.predict(X_test)\n",
        "accuracy_last = accuracy_score(y_test, y_pred_last)\n",
        "\n",
        "print(accuracy_last)"
      ],
      "metadata": {
        "colab": {
          "base_uri": "https://localhost:8080/"
        },
        "id": "t7qcrZR5BZ0A",
        "outputId": "599a6fb0-c45f-4391-d16d-4934ec9ad59d"
      },
      "execution_count": 52,
      "outputs": [
        {
          "output_type": "stream",
          "name": "stdout",
          "text": [
            "0.6597222222222222\n"
          ]
        }
      ]
    },
    {
      "cell_type": "code",
      "source": [
        "cm1 = confusion_matrix(y_test, y_pred_last)\n",
        "print(cm1)"
      ],
      "metadata": {
        "colab": {
          "base_uri": "https://localhost:8080/"
        },
        "id": "0t42afm0Bn10",
        "outputId": "ad0f706d-25ee-4cec-8525-e7ff0a113b78"
      },
      "execution_count": 53,
      "outputs": [
        {
          "output_type": "stream",
          "name": "stdout",
          "text": [
            "[[335 373]\n",
            " [215 805]]\n"
          ]
        }
      ]
    },
    {
      "cell_type": "code",
      "source": [
        "TP = cm1[1, 1]\n",
        "FP = cm1[0, 1]\n",
        "TN = cm1[0, 0]\n",
        "FN = cm1[1, 0]\n",
        "\n",
        "FPR = FP / (FP + TN)\n",
        "TPR = TP / (TP + FN)\n",
        "Precision = TP / (TP + FP)\n",
        "Recall = TPR"
      ],
      "metadata": {
        "id": "gLGD34vtggId"
      },
      "execution_count": 54,
      "outputs": []
    },
    {
      "cell_type": "code",
      "source": [
        "from sklearn.metrics import roc_curve\n",
        "\n",
        "test_prob_lr = new_lr.predict_proba(X_test)\n",
        "FPR, TPR, thresholds = roc_curve(y_test, test_prob_lr[:,1])"
      ],
      "metadata": {
        "id": "QYvvNJcvgkgf"
      },
      "execution_count": 55,
      "outputs": []
    },
    {
      "cell_type": "code",
      "source": [
        "fig, ax = plt.subplots(1, 1, figsize=(12,8))\n",
        "\n",
        "ax.step(FPR, TPR, linewidth=2)\n",
        "ax.plot([0,1], [0,1], '--', color = 'black')\n",
        "\n",
        "fs = 12\n",
        "ax.set_xlabel('1 - Specificity = 1 - TNR = FPR', fontsize=fs)\n",
        "ax.set_ylabel('Sensitivity = TPR', fontsize=fs)\n",
        "ax.tick_params(axis='both', labelsize=fs)\n",
        "\n",
        "AUC = np.trapz(TPR, FPR)\n",
        "ax.set_title('AUC = ' + str(round(AUC,4)))\n",
        "plt.savefig('component_severe.png')"
      ],
      "metadata": {
        "colab": {
          "base_uri": "https://localhost:8080/",
          "height": 726
        },
        "id": "chQYngjGglBK",
        "outputId": "c18658ee-47e1-425d-c1e1-5aa65caf369b"
      },
      "execution_count": 56,
      "outputs": [
        {
          "output_type": "display_data",
          "data": {
            "text/plain": [
              "<Figure size 1200x800 with 1 Axes>"
            ],
            "image/png": "[encoded data removed]"
          },
          "metadata": {}
        }
      ]
    },
    {
      "cell_type": "code",
      "source": [
        "from sklearn.model_selection import train_test_split\n",
        "\n",
        "X_train2, X_test2, y_train2, y_test2 = train_test_split(first, more_reduced[['Very Severe Force Used']], test_size=.2, random_state=55)"
      ],
      "metadata": {
        "id": "dIuTzzqFKCzV"
      },
      "execution_count": 119,
      "outputs": []
    },
    {
      "cell_type": "code",
      "source": [
        "cont_vars = X_train2[[\"Hour\", \"B-Poverty Rate\", \"B-Black Pop Rate\", \"B-Hispanic Pop Rate\", \"B-Violent Arrests per 100k\", \"P-Poverty Rate\",\n",
        "                    \"P-Black Pop Rate\", \"P-Hispanic Pop Rate\", \"P-Violent Arrests per 100k\", \"Individual Age\"]]"
      ],
      "metadata": {
        "id": "JiKVNFNSKPj6"
      },
      "execution_count": 120,
      "outputs": []
    },
    {
      "cell_type": "code",
      "source": [
        "from sklearn.preprocessing import StandardScaler\n",
        "\n",
        "std_scaler = StandardScaler()\n",
        "\n",
        "X_train_subset = cont_vars\n",
        "X_train_scaled = std_scaler.fit_transform(X_train_subset)\n",
        "\n",
        "X_train_subset_std_scaled = std_scaler.fit_transform(X_train_subset)\n",
        "\n",
        "X_train2[[\"Hour\", \"B-Poverty Rate\", \"B-Black Pop Rate\", \"B-Hispanic Pop Rate\", \"B-Violent Arrests per 100k\", \"P-Poverty Rate\",\n",
        "                    \"P-Black Pop Rate\", \"P-Hispanic Pop Rate\", \"P-Violent Arrests per 100k\", \"Individual Age\"]] = pd.DataFrame(X_train_subset_std_scaled, columns = X_train_subset.columns,index = X_train_subset.index)"
      ],
      "metadata": {
        "id": "YzMdC5ZrKSdz"
      },
      "execution_count": 121,
      "outputs": []
    },
    {
      "cell_type": "code",
      "source": [
        "X_test_subset = X_test2[[\"Hour\", \"B-Poverty Rate\", \"B-Black Pop Rate\", \"B-Hispanic Pop Rate\", \"B-Violent Arrests per 100k\", \"P-Poverty Rate\",\n",
        "                    \"P-Black Pop Rate\", \"P-Hispanic Pop Rate\", \"P-Violent Arrests per 100k\", \"Individual Age\"]]\n",
        "\n",
        "X_test_subset_std_scaled = std_scaler.transform(X_test_subset)\n",
        "\n",
        "X_test2[[\"Hour\", \"B-Poverty Rate\", \"B-Black Pop Rate\", \"B-Hispanic Pop Rate\", \"B-Violent Arrests per 100k\", \"P-Poverty Rate\",\n",
        "                    \"P-Black Pop Rate\", \"P-Hispanic Pop Rate\", \"P-Violent Arrests per 100k\", \"Individual Age\"]] = pd.DataFrame(X_test_subset_std_scaled, columns = X_test_subset.columns, index = X_test_subset.index)"
      ],
      "metadata": {
        "id": "GdzGZ7QXKayI"
      },
      "execution_count": 122,
      "outputs": []
    },
    {
      "cell_type": "code",
      "source": [
        "y_train2 = np.ravel(y_train2)\n",
        "y_test2 = np.ravel(y_test2)"
      ],
      "metadata": {
        "id": "6pFlwA2iKdVG"
      },
      "execution_count": 123,
      "outputs": []
    },
    {
      "cell_type": "code",
      "source": [
        "lr_severe_first = LogisticRegression(random_state=55, penalty='l2', max_iter=1000)\n",
        "lr_severe_first.fit(X_train2, y_train2)\n",
        "y_pred_severe = lr_severe_first.predict(X_train2)"
      ],
      "metadata": {
        "id": "U384iWmVKdqo"
      },
      "execution_count": 124,
      "outputs": []
    },
    {
      "cell_type": "code",
      "source": [
        "from sklearn.metrics import accuracy_score\n",
        "\n",
        "accuracy_score(y_train2, y_pred_severe)"
      ],
      "metadata": {
        "colab": {
          "base_uri": "https://localhost:8080/"
        },
        "id": "nH6ix54DKoEF",
        "outputId": "008244c2-09b3-4260-b91e-3139ef534f30"
      },
      "execution_count": 125,
      "outputs": [
        {
          "output_type": "execute_result",
          "data": {
            "text/plain": [
              "0.7520984081041968"
            ]
          },
          "metadata": {},
          "execution_count": 125
        }
      ]
    },
    {
      "cell_type": "code",
      "source": [
        "from sklearn.metrics import confusion_matrix\n",
        "\n",
        "# [TN, FP]\n",
        "# [FN, TP]\n",
        "\n",
        "cm = confusion_matrix(y_train2, y_pred_severe)\n",
        "print(cm)"
      ],
      "metadata": {
        "colab": {
          "base_uri": "https://localhost:8080/"
        },
        "id": "P0V8Sl61-1t7",
        "outputId": "75fd6c6a-71d5-422d-a2f2-f3c367c20f51"
      },
      "execution_count": 126,
      "outputs": [
        {
          "output_type": "stream",
          "name": "stdout",
          "text": [
            "[[4816  271]\n",
            " [1442  381]]\n"
          ]
        }
      ]
    },
    {
      "cell_type": "code",
      "source": [
        "severe_cval = cross_val_score(lr_severe_first, X_train2, y_train2, scoring=\"accuracy\", cv=10)\n",
        "print(severe_cval)\n",
        "print(severe_cval.mean())"
      ],
      "metadata": {
        "colab": {
          "base_uri": "https://localhost:8080/"
        },
        "id": "o119w7VxKpu1",
        "outputId": "1ef9bda1-9cab-465f-b235-7669570b1976"
      },
      "execution_count": 127,
      "outputs": [
        {
          "output_type": "stream",
          "name": "stdout",
          "text": [
            "[0.7568741  0.73950796 0.74819103 0.74384949 0.75108538 0.73950796\n",
            " 0.75397974 0.75108538 0.74963821 0.7568741 ]\n",
            "0.7490593342981187\n"
          ]
        }
      ]
    },
    {
      "cell_type": "code",
      "source": [
        "lr_severe_first2 = LogisticRegression(random_state=55, penalty='l2', max_iter=1000)\n",
        "\n",
        "grid_severe2 = GridSearchCV(lr_severe_first2, params2, cv=10)\n",
        "grid_severe2.fit(X_train2, y_train2)"
      ],
      "metadata": {
        "colab": {
          "base_uri": "https://localhost:8080/",
          "height": 118
        },
        "id": "ZegumRlIKyLz",
        "outputId": "063dd740-4b1f-47e5-a63b-10305698b501"
      },
      "execution_count": 128,
      "outputs": [
        {
          "output_type": "execute_result",
          "data": {
            "text/plain": [
              "GridSearchCV(cv=10,\n",
              "             estimator=LogisticRegression(max_iter=1000, random_state=55),\n",
              "             param_grid={'C': [0.01, 0.05, 0.1, 0.5, 1, 2, 5, 10]})"
            ],
            "text/html": [
              "<style>#sk-container-id-5 {color: black;background-color: white;}#sk-container-id-5 pre{padding: 0;}#sk-container-id-5 div.sk-toggleable {background-color: white;}#sk-container-id-5 label.sk-toggleable__label {cursor: pointer;display: block;width: 100%;margin-bottom: 0;padding: 0.3em;box-sizing: border-box;text-align: center;}#sk-container-id-5 label.sk-toggleable__label-arrow:before {content: \"▸\";float: left;margin-right: 0.25em;color: #696969;}#sk-container-id-5 label.sk-toggleable__label-arrow:hover:before {color: black;}#sk-container-id-5 div.sk-estimator:hover label.sk-toggleable__label-arrow:before {color: black;}#sk-container-id-5 div.sk-toggleable__content {max-height: 0;max-width: 0;overflow: hidden;text-align: left;background-color: #f0f8ff;}#sk-container-id-5 div.sk-toggleable__content pre {margin: 0.2em;color: black;border-radius: 0.25em;background-color: #f0f8ff;}#sk-container-id-5 input.sk-toggleable__control:checked~div.sk-toggleable__content {max-height: 200px;max-width: 100%;overflow: auto;}#sk-container-id-5 input.sk-toggleable__control:checked~label.sk-toggleable__label-arrow:before {content: \"▾\";}#sk-container-id-5 div.sk-estimator input.sk-toggleable__control:checked~label.sk-toggleable__label {background-color: #d4ebff;}#sk-container-id-5 div.sk-label input.sk-toggleable__control:checked~label.sk-toggleable__label {background-color: #d4ebff;}#sk-container-id-5 input.sk-hidden--visually {border: 0;clip: rect(1px 1px 1px 1px);clip: rect(1px, 1px, 1px, 1px);height: 1px;margin: -1px;overflow: hidden;padding: 0;position: absolute;width: 1px;}#sk-container-id-5 div.sk-estimator {font-family: monospace;background-color: #f0f8ff;border: 1px dotted black;border-radius: 0.25em;box-sizing: border-box;margin-bottom: 0.5em;}#sk-container-id-5 div.sk-estimator:hover {background-color: #d4ebff;}#sk-container-id-5 div.sk-parallel-item::after {content: \"\";width: 100%;border-bottom: 1px solid gray;flex-grow: 1;}#sk-container-id-5 div.sk-label:hover label.sk-toggleable__label {background-color: #d4ebff;}#sk-container-id-5 div.sk-serial::before {content: \"\";position: absolute;border-left: 1px solid gray;box-sizing: border-box;top: 0;bottom: 0;left: 50%;z-index: 0;}#sk-container-id-5 div.sk-serial {display: flex;flex-direction: column;align-items: center;background-color: white;padding-right: 0.2em;padding-left: 0.2em;position: relative;}#sk-container-id-5 div.sk-item {position: relative;z-index: 1;}#sk-container-id-5 div.sk-parallel {display: flex;align-items: stretch;justify-content: center;background-color: white;position: relative;}#sk-container-id-5 div.sk-item::before, #sk-container-id-5 div.sk-parallel-item::before {content: \"\";position: absolute;border-left: 1px solid gray;box-sizing: border-box;top: 0;bottom: 0;left: 50%;z-index: -1;}#sk-container-id-5 div.sk-parallel-item {display: flex;flex-direction: column;z-index: 1;position: relative;background-color: white;}#sk-container-id-5 div.sk-parallel-item:first-child::after {align-self: flex-end;width: 50%;}#sk-container-id-5 div.sk-parallel-item:last-child::after {align-self: flex-start;width: 50%;}#sk-container-id-5 div.sk-parallel-item:only-child::after {width: 0;}#sk-container-id-5 div.sk-dashed-wrapped {border: 1px dashed gray;margin: 0 0.4em 0.5em 0.4em;box-sizing: border-box;padding-bottom: 0.4em;background-color: white;}#sk-container-id-5 div.sk-label label {font-family: monospace;font-weight: bold;display: inline-block;line-height: 1.2em;}#sk-container-id-5 div.sk-label-container {text-align: center;}#sk-container-id-5 div.sk-container {/* jupyter's `normalize.less` sets `[hidden] { display: none; }` but bootstrap.min.css set `[hidden] { display: none !important; }` so we also need the `!important` here to be able to override the default hidden behavior on the sphinx rendered scikit-learn.org. See: https://github.com/scikit-learn/scikit-learn/issues/21755 */display: inline-block !important;position: relative;}#sk-container-id-5 div.sk-text-repr-fallback {display: none;}</style><div id=\"sk-container-id-5\" class=\"sk-top-container\"><div class=\"sk-text-repr-fallback\"><pre>GridSearchCV(cv=10,\n",
              "             estimator=LogisticRegression(max_iter=1000, random_state=55),\n",
              "             param_grid={&#x27;C&#x27;: [0.01, 0.05, 0.1, 0.5, 1, 2, 5, 10]})</pre><b>In a Jupyter environment, please rerun this cell to show the HTML representation or trust the notebook. <br />On GitHub, the HTML representation is unable to render, please try loading this page with nbviewer.org.</b></div><div class=\"sk-container\" hidden><div class=\"sk-item sk-dashed-wrapped\"><div class=\"sk-label-container\"><div class=\"sk-label sk-toggleable\"><input class=\"sk-toggleable__control sk-hidden--visually\" id=\"sk-estimator-id-13\" type=\"checkbox\" ><label for=\"sk-estimator-id-13\" class=\"sk-toggleable__label sk-toggleable__label-arrow\">GridSearchCV</label><div class=\"sk-toggleable__content\"><pre>GridSearchCV(cv=10,\n",
              "             estimator=LogisticRegression(max_iter=1000, random_state=55),\n",
              "             param_grid={&#x27;C&#x27;: [0.01, 0.05, 0.1, 0.5, 1, 2, 5, 10]})</pre></div></div></div><div class=\"sk-parallel\"><div class=\"sk-parallel-item\"><div class=\"sk-item\"><div class=\"sk-label-container\"><div class=\"sk-label sk-toggleable\"><input class=\"sk-toggleable__control sk-hidden--visually\" id=\"sk-estimator-id-14\" type=\"checkbox\" ><label for=\"sk-estimator-id-14\" class=\"sk-toggleable__label sk-toggleable__label-arrow\">estimator: LogisticRegression</label><div class=\"sk-toggleable__content\"><pre>LogisticRegression(max_iter=1000, random_state=55)</pre></div></div></div><div class=\"sk-serial\"><div class=\"sk-item\"><div class=\"sk-estimator sk-toggleable\"><input class=\"sk-toggleable__control sk-hidden--visually\" id=\"sk-estimator-id-15\" type=\"checkbox\" ><label for=\"sk-estimator-id-15\" class=\"sk-toggleable__label sk-toggleable__label-arrow\">LogisticRegression</label><div class=\"sk-toggleable__content\"><pre>LogisticRegression(max_iter=1000, random_state=55)</pre></div></div></div></div></div></div></div></div></div></div>"
            ]
          },
          "metadata": {},
          "execution_count": 128
        }
      ]
    },
    {
      "cell_type": "code",
      "source": [
        "print(grid_severe2.best_params_)"
      ],
      "metadata": {
        "colab": {
          "base_uri": "https://localhost:8080/"
        },
        "id": "XrKdMHIQLpPE",
        "outputId": "4e0a5290-bb04-4029-e98f-a183e437772d"
      },
      "execution_count": 129,
      "outputs": [
        {
          "output_type": "stream",
          "name": "stdout",
          "text": [
            "{'C': 5}\n"
          ]
        }
      ]
    },
    {
      "cell_type": "code",
      "source": [
        "plt.plot(params2['C'], grid_severe2.cv_results_['mean_test_score'])\n",
        "\n",
        "plt.xlabel('C value')\n",
        "plt.ylabel('Accuracy')"
      ],
      "metadata": {
        "colab": {
          "base_uri": "https://localhost:8080/",
          "height": 466
        },
        "id": "80KGDn1ULw_9",
        "outputId": "400c53f0-3f9a-44b4-9a6b-017989560a37"
      },
      "execution_count": 130,
      "outputs": [
        {
          "output_type": "execute_result",
          "data": {
            "text/plain": [
              "Text(0, 0.5, 'Accuracy')"
            ]
          },
          "metadata": {},
          "execution_count": 130
        },
        {
          "output_type": "display_data",
          "data": {
            "text/plain": [
              "<Figure size 640x480 with 1 Axes>"
            ],
            "image/png": "[encoded data removed]"
          },
          "metadata": {}
        }
      ]
    },
    {
      "cell_type": "code",
      "source": [
        "new_lr2 = grid_severe2.best_estimator_\n",
        "y_pred_new3 = new_lr2.predict(X_train2)\n",
        "\n",
        "accuracy3 = accuracy_score(y_train2, y_pred_new3)\n",
        "print(accuracy3)"
      ],
      "metadata": {
        "colab": {
          "base_uri": "https://localhost:8080/"
        },
        "id": "sAoF345AL7TA",
        "outputId": "687fcf68-14e3-4ac1-944f-463a5da3b0ea"
      },
      "execution_count": 131,
      "outputs": [
        {
          "output_type": "stream",
          "name": "stdout",
          "text": [
            "0.7526772793053546\n"
          ]
        }
      ]
    },
    {
      "cell_type": "code",
      "source": [
        "cm = confusion_matrix(y_train2, y_pred_new3)\n",
        "print(cm)"
      ],
      "metadata": {
        "colab": {
          "base_uri": "https://localhost:8080/"
        },
        "id": "YwKOPMTj6leo",
        "outputId": "99f3842b-8101-4f25-ba7f-4f29b27cf55e"
      },
      "execution_count": 132,
      "outputs": [
        {
          "output_type": "stream",
          "name": "stdout",
          "text": [
            "[[4811  276]\n",
            " [1433  390]]\n"
          ]
        }
      ]
    },
    {
      "cell_type": "code",
      "source": [
        "coefs = new_lr2.coef_[0]\n",
        "\n",
        "coef_values = list(zip(X_train.columns, coefs))\n",
        "sorted_coefs = sorted(coef_values, key=lambda x: abs(x[1]), reverse=True)\n",
        "\n",
        "\n",
        "for vars, coefs in sorted_coefs:\n",
        "    print(str(vars) + \", \" + str(round(coefs,4)))"
      ],
      "metadata": {
        "colab": {
          "base_uri": "https://localhost:8080/"
        },
        "id": "-pbQPxjTMCD_",
        "outputId": "630a1744-35f1-4eb7-d9c6-402cf365254a"
      },
      "execution_count": 133,
      "outputs": [
        {
          "output_type": "stream",
          "name": "stdout",
          "text": [
            "Day of Week_4-WEDNESDAY, 1.8669\n",
            "Individual Race / Ethnicity Grouping_Hispanic, 1.4983\n",
            "Day of Week_2-MONDAY, -1.1876\n",
            "Individual Resistance -Active Aggression, 1.1314\n",
            "Individual Resistance - Aggravated Active Aggression, 0.9415\n",
            "Individual Armed With -Gun, 0.79\n",
            "Individual Armed with - Cutting Instrument, -0.7778\n",
            "Day of Week_3-TUESDAY, -0.7017\n",
            "Police Employee Race / Ethnicity Grouping_White, -0.698\n",
            "Individual Armed With - Blunt Instrument, -0.6335\n",
            "Police Employee Race / Ethnicity Grouping_Hispanic, -0.5928\n",
            "Police Employee Race / Ethnicity Grouping_Other, -0.5441\n",
            "B-Poverty Rate, -0.4611\n",
            "is South Mountain Precinct, 0.4572\n",
            "Individual Armed With - No Weapon, -0.444\n",
            "Individual Race / Ethnicity Grouping_Other, 0.2791\n",
            "Individual Resistance -Passive Resistance, -0.2723\n",
            "is Central City Precinct, -0.2437\n",
            "Individual Resistance -Verbal Non Compliance, -0.2074\n",
            "is Black Mountain Precinct, 0.1938\n",
            "Police Employee Gender / Sex_Male, 0.1858\n",
            "Individual Resistance -Psychological Intimidation, -0.184\n",
            "is Cactus Park Precinct, 0.1475\n",
            "B-Violent Arrests per 100k, 0.12\n",
            "Police Employee Gender / Sex_Female, -0.1177\n",
            "Day of Week_6-FRIDAY, -0.1045\n",
            "Day of Week_4-WEDNESSDAY, -0.0925\n",
            "Individual Race / Ethnicity Grouping_Black or African American, -0.0883\n",
            "Individual Resistance -Active Resistance, 0.0868\n",
            "P-Hispanic Pop Rate, -0.0852\n",
            "Hour, 0.0752\n",
            "Individual Age, -0.0729\n",
            "P-Black Pop Rate, 0.0704\n",
            "Day of Week_5-THURSDAY, 0.0701\n",
            "B-Hispanic Pop Rate, -0.0699\n",
            "P-Poverty Rate, -0.0671\n",
            "Day of Week_7-SATURDAY, 0.0531\n",
            "is Desert Horizon Precinct, 0.051\n",
            "B-Black Pop Rate, 0.0497\n",
            "Individual Armed With - Other, -0.042\n",
            "is Mountain View Precinct, -0.0339\n",
            "Individual Gender_Male, 0.0296\n",
            "P-Violent Arrests per 100k, -0.0211\n",
            "Police Employee Race / Ethnicity Grouping_Black or African American, 0.0201\n",
            "Day of Week_1-SUNDAY, -0.0192\n",
            "Individual Race / Ethnicity Grouping_White, 0.0152\n",
            "Individual Gender_Unknown, -0.0022\n",
            "is Maryvale/Estrella Precinct, 0.0006\n",
            "Individual Gender_Female, -0.0005\n",
            "Individual Resistance - None, 0.0\n"
          ]
        }
      ]
    },
    {
      "cell_type": "code",
      "source": [
        "force_prob_lr2 = new_lr2.predict_proba(X_train2)\n",
        "force_prob_lr2[:20]"
      ],
      "metadata": {
        "colab": {
          "base_uri": "https://localhost:8080/"
        },
        "id": "vT1ops3FMQJy",
        "outputId": "929fcfe2-ecd1-4a40-8aee-9c7215626560"
      },
      "execution_count": 134,
      "outputs": [
        {
          "output_type": "execute_result",
          "data": {
            "text/plain": [
              "array([[0.62845786, 0.37154214],\n",
              "       [0.91858391, 0.08141609],\n",
              "       [0.69061345, 0.30938655],\n",
              "       [0.64487542, 0.35512458],\n",
              "       [0.87932262, 0.12067738],\n",
              "       [0.95548662, 0.04451338],\n",
              "       [0.70800773, 0.29199227],\n",
              "       [0.94467351, 0.05532649],\n",
              "       [0.7369553 , 0.2630447 ],\n",
              "       [0.56496223, 0.43503777],\n",
              "       [0.92280579, 0.07719421],\n",
              "       [0.65307549, 0.34692451],\n",
              "       [0.7908079 , 0.2091921 ],\n",
              "       [0.8581429 , 0.1418571 ],\n",
              "       [0.57146436, 0.42853564],\n",
              "       [0.78005673, 0.21994327],\n",
              "       [0.47262505, 0.52737495],\n",
              "       [0.90821577, 0.09178423],\n",
              "       [0.74714642, 0.25285358],\n",
              "       [0.82050182, 0.17949818]])"
            ]
          },
          "metadata": {},
          "execution_count": 134
        }
      ]
    },
    {
      "cell_type": "code",
      "source": [
        "y_pred_last2 = new_lr2.predict(X_test2)\n",
        "accuracy_last2 = accuracy_score(y_test2, y_pred_last2)\n",
        "\n",
        "print(accuracy_last2)"
      ],
      "metadata": {
        "colab": {
          "base_uri": "https://localhost:8080/"
        },
        "id": "cVNG0L-mhKjQ",
        "outputId": "d7d4ddc5-5f51-4e40-f4a5-e6fff02aaf2e"
      },
      "execution_count": 135,
      "outputs": [
        {
          "output_type": "stream",
          "name": "stdout",
          "text": [
            "0.7465277777777778\n"
          ]
        }
      ]
    },
    {
      "cell_type": "code",
      "source": [
        "cm2 = confusion_matrix(y_test2, y_pred_last2)\n",
        "print(cm2)"
      ],
      "metadata": {
        "colab": {
          "base_uri": "https://localhost:8080/"
        },
        "id": "zMsglMFihLwl",
        "outputId": "ad403b13-b536-400d-de47-d662b1158099"
      },
      "execution_count": 136,
      "outputs": [
        {
          "output_type": "stream",
          "name": "stdout",
          "text": [
            "[[1194   72]\n",
            " [ 366   96]]\n"
          ]
        }
      ]
    },
    {
      "cell_type": "code",
      "source": [
        "TP = cm2[1, 1]\n",
        "FP = cm2[0, 1]\n",
        "TN = cm2[0, 0]\n",
        "FN = cm2[1, 0]\n",
        "\n",
        "FPR = FP / (FP + TN)\n",
        "TPR = TP / (TP + FN)\n",
        "Precision = TP / (TP + FP)\n",
        "Recall = TPR"
      ],
      "metadata": {
        "id": "weoF5QL7_q8V"
      },
      "execution_count": 137,
      "outputs": []
    },
    {
      "cell_type": "code",
      "source": [
        "from sklearn.metrics import roc_curve\n",
        "\n",
        "test_prob_lr = new_lr2.predict_proba(X_test2)\n",
        "FPR, TPR, thresholds = roc_curve(y_test2, test_prob_lr[:,1])"
      ],
      "metadata": {
        "id": "_giXL0o5B59i"
      },
      "execution_count": 138,
      "outputs": []
    },
    {
      "cell_type": "code",
      "source": [
        "fig, ax = plt.subplots(1, 1, figsize=(12,8))\n",
        "\n",
        "ax.step(FPR, TPR, linewidth=2)\n",
        "ax.plot([0,1], [0,1], '--', color = 'black')\n",
        "\n",
        "fs = 12\n",
        "ax.set_xlabel('1 - Specificity = 1 - TNR = FPR', fontsize=fs)\n",
        "ax.set_ylabel('Sensitivity = TPR', fontsize=fs)\n",
        "ax.tick_params(axis='both', labelsize=fs)\n",
        "\n",
        "AUC = np.trapz(TPR, FPR)\n",
        "ax.set_title('AUC = ' + str(round(AUC,4)))\n",
        "plt.savefig('component_very_severe.png')"
      ],
      "metadata": {
        "colab": {
          "base_uri": "https://localhost:8080/",
          "height": 726
        },
        "id": "WlbIzJANCA2N",
        "outputId": "c3669063-fbc6-4d13-bc69-111b2f2f17ba"
      },
      "execution_count": 139,
      "outputs": [
        {
          "output_type": "display_data",
          "data": {
            "text/plain": [
              "<Figure size 1200x800 with 1 Axes>"
            ],
            "image/png": "[encoded data removed]"
          },
          "metadata": {}
        }
      ]
    },
    {
      "cell_type": "code",
      "source": [
        "# Run models again - this time with specific locations rather than the location components\n",
        "# I am trying to test whether the specific interactions of each location, different cultures, etc. are better at predicting than intuitive components"
      ],
      "metadata": {
        "id": "g4SOUzuhEWmp"
      },
      "execution_count": 78,
      "outputs": []
    },
    {
      "cell_type": "code",
      "source": [
        "X_train, X_test, y_train, y_test = train_test_split(second, more_reduced[['Severe Force Used']], test_size=.2, random_state=55)"
      ],
      "metadata": {
        "id": "pnu3322Whygk"
      },
      "execution_count": 81,
      "outputs": []
    },
    {
      "cell_type": "code",
      "source": [
        "cont_vars = X_train[[\"Hour\", \"B-Poverty Rate\", \"B-Black Pop Rate\", \"B-Hispanic Pop Rate\", \"B-Violent Arrests per 100k\", \"P-Poverty Rate\",\n",
        "                    \"P-Black Pop Rate\", \"P-Hispanic Pop Rate\", \"P-Violent Arrests per 100k\", \"Individual Age\"]]"
      ],
      "metadata": {
        "id": "6RE6Bh4EjjOe"
      },
      "execution_count": 82,
      "outputs": []
    },
    {
      "cell_type": "code",
      "source": [
        "from sklearn.preprocessing import StandardScaler\n",
        "\n",
        "std_scaler = StandardScaler()\n",
        "\n",
        "X_train_subset = cont_vars\n",
        "X_train_scaled = std_scaler.fit_transform(X_train_subset)\n",
        "\n",
        "X_train_subset_std_scaled = std_scaler.fit_transform(X_train_subset)\n",
        "\n",
        "X_train[[\"Hour\", \"B-Poverty Rate\", \"B-Black Pop Rate\", \"B-Hispanic Pop Rate\", \"B-Violent Arrests per 100k\", \"P-Poverty Rate\",\n",
        "                    \"P-Black Pop Rate\", \"P-Hispanic Pop Rate\", \"P-Violent Arrests per 100k\", \"Individual Age\"]] = pd.DataFrame(X_train_subset_std_scaled, columns = X_train_subset.columns,index = X_train_subset.index)\n"
      ],
      "metadata": {
        "id": "_PHbVtqSjnXG"
      },
      "execution_count": 83,
      "outputs": []
    },
    {
      "cell_type": "code",
      "source": [
        "X_test_subset = X_test[[\"Hour\", \"B-Poverty Rate\", \"B-Black Pop Rate\", \"B-Hispanic Pop Rate\", \"B-Violent Arrests per 100k\", \"P-Poverty Rate\",\n",
        "                    \"P-Black Pop Rate\", \"P-Hispanic Pop Rate\", \"P-Violent Arrests per 100k\", \"Individual Age\"]]\n",
        "\n",
        "X_test_subset_std_scaled = std_scaler.transform(X_test_subset)\n",
        "\n",
        "X_test[[\"Hour\", \"B-Poverty Rate\", \"B-Black Pop Rate\", \"B-Hispanic Pop Rate\", \"B-Violent Arrests per 100k\", \"P-Poverty Rate\",\n",
        "                    \"P-Black Pop Rate\", \"P-Hispanic Pop Rate\", \"P-Violent Arrests per 100k\", \"Individual Age\"]] = pd.DataFrame(X_test_subset_std_scaled, columns = X_test_subset.columns, index = X_test_subset.index)"
      ],
      "metadata": {
        "id": "7v5w1A8Qjtq4"
      },
      "execution_count": 84,
      "outputs": []
    },
    {
      "cell_type": "code",
      "source": [
        "y_train = np.ravel(y_train)\n",
        "y_test = np.ravel(y_test)"
      ],
      "metadata": {
        "id": "cmp54U5TjwZF"
      },
      "execution_count": 85,
      "outputs": []
    },
    {
      "cell_type": "code",
      "source": [
        "lr_first = LogisticRegression(random_state=55, penalty='l2', max_iter=1000)\n",
        "lr_first.fit(X_train, y_train)\n",
        "y_pred_lr = lr_first.predict(X_train)"
      ],
      "metadata": {
        "id": "vjWevrCXjy_Z"
      },
      "execution_count": 86,
      "outputs": []
    },
    {
      "cell_type": "code",
      "source": [
        "accuracy_score(y_train, y_pred_lr)"
      ],
      "metadata": {
        "colab": {
          "base_uri": "https://localhost:8080/"
        },
        "id": "Rmz3Ll_2j1gM",
        "outputId": "8660e8ff-be1d-4b0e-ca4f-f23db1cbb300"
      },
      "execution_count": 87,
      "outputs": [
        {
          "output_type": "execute_result",
          "data": {
            "text/plain": [
              "0.6790159189580318"
            ]
          },
          "metadata": {},
          "execution_count": 87
        }
      ]
    },
    {
      "cell_type": "code",
      "source": [
        "logit_cval = cross_val_score(lr_first, X_train, y_train, scoring=\"accuracy\", cv=10)\n",
        "print(logit_cval)\n",
        "print(logit_cval.mean())"
      ],
      "metadata": {
        "colab": {
          "base_uri": "https://localhost:8080/"
        },
        "id": "S1JMLnq5j7RL",
        "outputId": "4e745cfe-219a-44aa-87ee-4daf83e869c0"
      },
      "execution_count": 88,
      "outputs": [
        {
          "output_type": "stream",
          "name": "stdout",
          "text": [
            "[0.62373372 0.6382055  0.66570188 0.6845152  0.64978292 0.68017366\n",
            " 0.6512301  0.68162084 0.66714906 0.68017366]\n",
            "0.6622286541244573\n"
          ]
        }
      ]
    },
    {
      "cell_type": "code",
      "source": [
        "params2 = {'C': [0.01, 0.05, 0.1, 0.5, 1, 2, 5, 10]}\n",
        "\n",
        "lr_first2 = LogisticRegression(random_state=55, penalty='l2', max_iter=1000)\n",
        "\n",
        "grid_search2 = GridSearchCV(lr_first2, params2, cv=10)\n",
        "grid_search2.fit(X_train, y_train)"
      ],
      "metadata": {
        "colab": {
          "base_uri": "https://localhost:8080/",
          "height": 118
        },
        "id": "Sin9vlFwj-CR",
        "outputId": "0b1addd7-60f2-49f9-cee0-937ccdc40554"
      },
      "execution_count": 89,
      "outputs": [
        {
          "output_type": "execute_result",
          "data": {
            "text/plain": [
              "GridSearchCV(cv=10,\n",
              "             estimator=LogisticRegression(max_iter=1000, random_state=55),\n",
              "             param_grid={'C': [0.01, 0.05, 0.1, 0.5, 1, 2, 5, 10]})"
            ],
            "text/html": [
              "<style>#sk-container-id-3 {color: black;background-color: white;}#sk-container-id-3 pre{padding: 0;}#sk-container-id-3 div.sk-toggleable {background-color: white;}#sk-container-id-3 label.sk-toggleable__label {cursor: pointer;display: block;width: 100%;margin-bottom: 0;padding: 0.3em;box-sizing: border-box;text-align: center;}#sk-container-id-3 label.sk-toggleable__label-arrow:before {content: \"▸\";float: left;margin-right: 0.25em;color: #696969;}#sk-container-id-3 label.sk-toggleable__label-arrow:hover:before {color: black;}#sk-container-id-3 div.sk-estimator:hover label.sk-toggleable__label-arrow:before {color: black;}#sk-container-id-3 div.sk-toggleable__content {max-height: 0;max-width: 0;overflow: hidden;text-align: left;background-color: #f0f8ff;}#sk-container-id-3 div.sk-toggleable__content pre {margin: 0.2em;color: black;border-radius: 0.25em;background-color: #f0f8ff;}#sk-container-id-3 input.sk-toggleable__control:checked~div.sk-toggleable__content {max-height: 200px;max-width: 100%;overflow: auto;}#sk-container-id-3 input.sk-toggleable__control:checked~label.sk-toggleable__label-arrow:before {content: \"▾\";}#sk-container-id-3 div.sk-estimator input.sk-toggleable__control:checked~label.sk-toggleable__label {background-color: #d4ebff;}#sk-container-id-3 div.sk-label input.sk-toggleable__control:checked~label.sk-toggleable__label {background-color: #d4ebff;}#sk-container-id-3 input.sk-hidden--visually {border: 0;clip: rect(1px 1px 1px 1px);clip: rect(1px, 1px, 1px, 1px);height: 1px;margin: -1px;overflow: hidden;padding: 0;position: absolute;width: 1px;}#sk-container-id-3 div.sk-estimator {font-family: monospace;background-color: #f0f8ff;border: 1px dotted black;border-radius: 0.25em;box-sizing: border-box;margin-bottom: 0.5em;}#sk-container-id-3 div.sk-estimator:hover {background-color: #d4ebff;}#sk-container-id-3 div.sk-parallel-item::after {content: \"\";width: 100%;border-bottom: 1px solid gray;flex-grow: 1;}#sk-container-id-3 div.sk-label:hover label.sk-toggleable__label {background-color: #d4ebff;}#sk-container-id-3 div.sk-serial::before {content: \"\";position: absolute;border-left: 1px solid gray;box-sizing: border-box;top: 0;bottom: 0;left: 50%;z-index: 0;}#sk-container-id-3 div.sk-serial {display: flex;flex-direction: column;align-items: center;background-color: white;padding-right: 0.2em;padding-left: 0.2em;position: relative;}#sk-container-id-3 div.sk-item {position: relative;z-index: 1;}#sk-container-id-3 div.sk-parallel {display: flex;align-items: stretch;justify-content: center;background-color: white;position: relative;}#sk-container-id-3 div.sk-item::before, #sk-container-id-3 div.sk-parallel-item::before {content: \"\";position: absolute;border-left: 1px solid gray;box-sizing: border-box;top: 0;bottom: 0;left: 50%;z-index: -1;}#sk-container-id-3 div.sk-parallel-item {display: flex;flex-direction: column;z-index: 1;position: relative;background-color: white;}#sk-container-id-3 div.sk-parallel-item:first-child::after {align-self: flex-end;width: 50%;}#sk-container-id-3 div.sk-parallel-item:last-child::after {align-self: flex-start;width: 50%;}#sk-container-id-3 div.sk-parallel-item:only-child::after {width: 0;}#sk-container-id-3 div.sk-dashed-wrapped {border: 1px dashed gray;margin: 0 0.4em 0.5em 0.4em;box-sizing: border-box;padding-bottom: 0.4em;background-color: white;}#sk-container-id-3 div.sk-label label {font-family: monospace;font-weight: bold;display: inline-block;line-height: 1.2em;}#sk-container-id-3 div.sk-label-container {text-align: center;}#sk-container-id-3 div.sk-container {/* jupyter's `normalize.less` sets `[hidden] { display: none; }` but bootstrap.min.css set `[hidden] { display: none !important; }` so we also need the `!important` here to be able to override the default hidden behavior on the sphinx rendered scikit-learn.org. See: https://github.com/scikit-learn/scikit-learn/issues/21755 */display: inline-block !important;position: relative;}#sk-container-id-3 div.sk-text-repr-fallback {display: none;}</style><div id=\"sk-container-id-3\" class=\"sk-top-container\"><div class=\"sk-text-repr-fallback\"><pre>GridSearchCV(cv=10,\n",
              "             estimator=LogisticRegression(max_iter=1000, random_state=55),\n",
              "             param_grid={&#x27;C&#x27;: [0.01, 0.05, 0.1, 0.5, 1, 2, 5, 10]})</pre><b>In a Jupyter environment, please rerun this cell to show the HTML representation or trust the notebook. <br />On GitHub, the HTML representation is unable to render, please try loading this page with nbviewer.org.</b></div><div class=\"sk-container\" hidden><div class=\"sk-item sk-dashed-wrapped\"><div class=\"sk-label-container\"><div class=\"sk-label sk-toggleable\"><input class=\"sk-toggleable__control sk-hidden--visually\" id=\"sk-estimator-id-7\" type=\"checkbox\" ><label for=\"sk-estimator-id-7\" class=\"sk-toggleable__label sk-toggleable__label-arrow\">GridSearchCV</label><div class=\"sk-toggleable__content\"><pre>GridSearchCV(cv=10,\n",
              "             estimator=LogisticRegression(max_iter=1000, random_state=55),\n",
              "             param_grid={&#x27;C&#x27;: [0.01, 0.05, 0.1, 0.5, 1, 2, 5, 10]})</pre></div></div></div><div class=\"sk-parallel\"><div class=\"sk-parallel-item\"><div class=\"sk-item\"><div class=\"sk-label-container\"><div class=\"sk-label sk-toggleable\"><input class=\"sk-toggleable__control sk-hidden--visually\" id=\"sk-estimator-id-8\" type=\"checkbox\" ><label for=\"sk-estimator-id-8\" class=\"sk-toggleable__label sk-toggleable__label-arrow\">estimator: LogisticRegression</label><div class=\"sk-toggleable__content\"><pre>LogisticRegression(max_iter=1000, random_state=55)</pre></div></div></div><div class=\"sk-serial\"><div class=\"sk-item\"><div class=\"sk-estimator sk-toggleable\"><input class=\"sk-toggleable__control sk-hidden--visually\" id=\"sk-estimator-id-9\" type=\"checkbox\" ><label for=\"sk-estimator-id-9\" class=\"sk-toggleable__label sk-toggleable__label-arrow\">LogisticRegression</label><div class=\"sk-toggleable__content\"><pre>LogisticRegression(max_iter=1000, random_state=55)</pre></div></div></div></div></div></div></div></div></div></div>"
            ]
          },
          "metadata": {},
          "execution_count": 89
        }
      ]
    },
    {
      "cell_type": "code",
      "source": [
        "print(grid_search2.best_params_)"
      ],
      "metadata": {
        "colab": {
          "base_uri": "https://localhost:8080/"
        },
        "id": "cGSYmrDwkAiX",
        "outputId": "9529440e-cf42-4801-f29d-114dd1828e83"
      },
      "execution_count": 90,
      "outputs": [
        {
          "output_type": "stream",
          "name": "stdout",
          "text": [
            "{'C': 0.1}\n"
          ]
        }
      ]
    },
    {
      "cell_type": "code",
      "source": [
        "plt.plot(params2['C'], grid_search2.cv_results_['mean_test_score'])\n",
        "\n",
        "plt.xlabel('C value')\n",
        "plt.ylabel('Accuracy')"
      ],
      "metadata": {
        "colab": {
          "base_uri": "https://localhost:8080/",
          "height": 471
        },
        "id": "GcrPIfQmkDbG",
        "outputId": "2b115b51-ffa7-4b00-8cac-f3332c6a6d5f"
      },
      "execution_count": 91,
      "outputs": [
        {
          "output_type": "execute_result",
          "data": {
            "text/plain": [
              "Text(0, 0.5, 'Accuracy')"
            ]
          },
          "metadata": {},
          "execution_count": 91
        },
        {
          "output_type": "display_data",
          "data": {
            "text/plain": [
              "<Figure size 640x480 with 1 Axes>"
            ],
            "image/png": "[encoded data removed]"
          },
          "metadata": {}
        }
      ]
    },
    {
      "cell_type": "code",
      "source": [
        "new_lr = grid_search2.best_estimator_\n",
        "y_pred_new2 = new_lr.predict(X_train)\n",
        "\n",
        "accuracy2 = accuracy_score(y_train, y_pred_new2)\n",
        "print(accuracy2)"
      ],
      "metadata": {
        "colab": {
          "base_uri": "https://localhost:8080/"
        },
        "id": "Lp0kFCSIkGHq",
        "outputId": "a4f47dd3-52b9-4167-fc3f-46aff3e543ab"
      },
      "execution_count": 92,
      "outputs": [
        {
          "output_type": "stream",
          "name": "stdout",
          "text": [
            "0.6746743849493487\n"
          ]
        }
      ]
    },
    {
      "cell_type": "code",
      "source": [
        "coefs = new_lr.coef_[0]\n",
        "\n",
        "coef_values = list(zip(X_train.columns, coefs))\n",
        "sorted_coefs = sorted(coef_values, key=lambda x: abs(x[1]), reverse=True)\n",
        "\n",
        "\n",
        "for vars, coefs in sorted_coefs:\n",
        "    print(str(vars) + \", \" + str(round(coefs,4)))"
      ],
      "metadata": {
        "colab": {
          "base_uri": "https://localhost:8080/"
        },
        "id": "K_Bn4EO0kIrA",
        "outputId": "cf2f48fe-63b1-4fd9-832e-1c90ab017db6"
      },
      "execution_count": 93,
      "outputs": [
        {
          "output_type": "stream",
          "name": "stdout",
          "text": [
            "Individual Armed with - Cutting Instrument, 0.7754\n",
            "Individual Resistance -Active Resistance, -0.752\n",
            "Individual Armed With - Other, 0.5606\n",
            "Individual Resistance - Aggravated Active Aggression, 0.5548\n",
            "Individual Resistance -Active Aggression, 0.5353\n",
            "Individual Armed With -Gun, 0.529\n",
            "Police Beat_421, -0.5254\n",
            "Individual Armed With - No Weapon, -0.5122\n",
            "Police Beat_424, 0.4365\n",
            "Police Beat_211, 0.3943\n",
            "Individual Gender_Female, -0.3681\n",
            "Police Beat_824, 0.3559\n",
            "Individual Resistance -Passive Resistance, -0.3436\n",
            "Police Beat_591, -0.3421\n",
            "Police Beat_726, -0.3353\n",
            "Individual Armed With - Blunt Instrument, 0.3274\n",
            "Police Beat_925, -0.3187\n",
            "Individual Gender_Male, 0.3084\n",
            "Police Beat_921, 0.3074\n",
            "Police Beat_625, 0.3034\n",
            "Police Beat_923, 0.3\n",
            "Police Beat_615, 0.2962\n",
            "Police Beat_712, -0.2827\n",
            "Police Beat_412, -0.2787\n",
            "Police Beat_622, -0.2781\n",
            "Police Beat_825, 0.2769\n",
            "Police Beat_733, 0.2716\n",
            "Police Beat_724, -0.2703\n",
            "Police Beat_711, 0.2669\n",
            "Police Beat_924, -0.2567\n",
            "Police Beat_232, -0.2484\n",
            "Police Beat_411, -0.246\n",
            "Police Beat_834, -0.2369\n",
            "Police Beat_613, 0.2343\n",
            "Police Beat_425, 0.2224\n",
            "Police Beat_433, 0.2184\n",
            "Police Beat_931, -0.2144\n",
            "Police Beat_815, -0.21\n",
            "Police Beat_632, -0.2071\n",
            "Year_2020, -0.204\n",
            "P-Hispanic Pop Rate, 0.2036\n",
            "Year_2019, -0.1979\n",
            "Police Beat_612, -0.1944\n",
            "Police Beat_814, 0.1934\n",
            "Police Beat_222, 0.1921\n",
            "Police Beat_736, 0.1894\n",
            "Police Beat_231, -0.1853\n",
            "Police Employee Race / Ethnicity Grouping_Other, 0.1847\n",
            "Police Beat_514, 0.1823\n",
            "Police Beat_832, -0.1762\n",
            "Police Beat_732, -0.1725\n",
            "is Mountain View Precinct, -0.1675\n",
            "Police Beat_922, 0.1664\n",
            "Police Beat_822, -0.1641\n",
            "Police Beat_515, 0.1602\n",
            "Police Beat_413, -0.1578\n",
            "Police Beat_213, -0.1566\n",
            "Police Beat_223, -0.1559\n",
            "Year_2022, 0.155\n",
            "Individual Resistance -Verbal Non Compliance, -0.1519\n",
            "Police Beat_715, -0.1517\n",
            "Individual Resistance -Psychological Intimidation, 0.1499\n",
            "Police Employee Race / Ethnicity Grouping_Hispanic, -0.1435\n",
            "Police Beat_633, -0.141\n",
            "Police Beat_833, -0.1367\n",
            "Day of Week_4-WEDNESDAY, -0.1358\n",
            "Police Beat_631, -0.1317\n",
            "Police Beat_212, 0.1281\n",
            "Individual Race / Ethnicity Grouping_Hispanic, 0.1274\n",
            "Police Beat_511, 0.1268\n",
            "Police Beat_813, 0.1247\n",
            "Day of Week_3-TUESDAY, 0.1237\n",
            "Year_2021, 0.1219\n",
            "Police Beat_812, -0.119\n",
            "Police Beat_621, 0.1188\n",
            "Police Beat_721, 0.1155\n",
            "is Cactus Park Precinct, 0.1137\n",
            "Day of Week_1-SUNDAY, -0.1115\n",
            "Police Beat_731, 0.1106\n",
            "Police Beat_821, 0.1089\n",
            "is Maryvale/Estrella Precinct, 0.1071\n",
            "Police Beat_432, 0.1022\n",
            "Police Beat_423, 0.1001\n",
            "Year_2023, 0.0883\n",
            "Police Beat_823, 0.0863\n",
            "Police Beat_434, 0.0861\n",
            "Police Beat_512, -0.0855\n",
            "Police Beat_713, 0.0852\n",
            "P-Black Pop Rate, -0.0839\n",
            "Police Beat_221, 0.0821\n",
            "Police Beat_634, 0.0791\n",
            "Police Beat_414, 0.0778\n",
            "Day of Week_4-WEDNESSDAY, 0.0764\n",
            "Day of Week_5-THURSDAY, 0.0762\n",
            "Police Beat_214, -0.072\n",
            "Police Beat_723, 0.0717\n",
            "Police Beat_725, 0.0715\n",
            "B-Black Pop Rate, 0.0709\n",
            "Police Beat_224, -0.0703\n",
            "Police Beat_431, -0.0693\n",
            "Police Beat_714, -0.0689\n",
            "Police Beat_735, -0.0677\n",
            "Police Beat_914, -0.0614\n",
            "Individual Gender_Unknown, 0.0605\n",
            "Police Beat_422, 0.0604\n",
            "Individual Age, -0.0593\n",
            "Police Beat_516, -0.0587\n",
            "Individual Race / Ethnicity Grouping_Other, -0.0587\n",
            "Police Employee Gender / Sex_Male, 0.0547\n",
            "Police Beat_611, -0.0544\n",
            "Police Employee Gender / Sex_Female, -0.054\n",
            "Year_2017, 0.0536\n",
            "Police Beat_811, 0.0507\n",
            "Police Beat_435, -0.05\n",
            "P-Violent Arrests per 100k, -0.0494\n",
            "Day of Week_7-SATURDAY, -0.0486\n",
            "Police Beat_915, -0.0485\n",
            "Police Beat_233, 0.0484\n",
            "Police Beat_831, -0.0469\n",
            "Individual Race / Ethnicity Grouping_Black or African American, -0.0418\n",
            "Police Employee Race / Ethnicity Grouping_White, -0.0407\n",
            "Police Beat_623, -0.037\n",
            "Police Beat_933, -0.0325\n",
            "is Black Mountain Precinct, -0.0287\n",
            "B-Violent Arrests per 100k, -0.0276\n",
            "P-Poverty Rate, 0.0276\n",
            "Individual Race / Ethnicity Grouping_White, -0.0262\n",
            "is South Mountain Precinct, -0.0234\n",
            "Police Beat_912, 0.023\n",
            "Police Beat_911, 0.0222\n",
            "Police Beat_513, 0.0177\n",
            "Police Beat_734, -0.0176\n",
            "Day of Week_2-MONDAY, 0.017\n",
            "Police Beat_722, 0.0169\n",
            "Year_2018, -0.0161\n",
            "Police Beat_932, -0.015\n",
            "Police Beat_234, 0.0148\n",
            "Police Beat_614, 0.0057\n",
            "Hour, -0.0056\n",
            "Police Beat_624, 0.0052\n",
            "Day of Week_6-FRIDAY, 0.0034\n",
            "B-Hispanic Pop Rate, -0.0027\n",
            "B-Poverty Rate, -0.0011\n",
            "is Desert Horizon Precinct, -0.0009\n",
            "Police Beat_913, -0.0009\n",
            "is Central City Precinct, 0.0006\n",
            "Police Employee Race / Ethnicity Grouping_Black or African American, 0.0002\n",
            "Individual Resistance - None, 0.0\n"
          ]
        }
      ]
    },
    {
      "cell_type": "code",
      "source": [
        "y_pred_last = new_lr.predict(X_test)\n",
        "accuracy_last = accuracy_score(y_test, y_pred_last)\n",
        "\n",
        "print(accuracy_last)"
      ],
      "metadata": {
        "colab": {
          "base_uri": "https://localhost:8080/"
        },
        "id": "Gih80tzokMj3",
        "outputId": "3a980d94-18eb-4519-f3cc-5bab2a726bcf"
      },
      "execution_count": 94,
      "outputs": [
        {
          "output_type": "stream",
          "name": "stdout",
          "text": [
            "0.6585648148148148\n"
          ]
        }
      ]
    },
    {
      "cell_type": "code",
      "source": [
        "cm1 = confusion_matrix(y_test, y_pred_last)\n",
        "print(cm1)"
      ],
      "metadata": {
        "colab": {
          "base_uri": "https://localhost:8080/"
        },
        "id": "6AnTv36qkP3h",
        "outputId": "84090457-4640-4e82-894e-11dc9549c3cb"
      },
      "execution_count": 95,
      "outputs": [
        {
          "output_type": "stream",
          "name": "stdout",
          "text": [
            "[[343 365]\n",
            " [225 795]]\n"
          ]
        }
      ]
    },
    {
      "cell_type": "code",
      "source": [
        "TP = cm1[1, 1]\n",
        "FP = cm1[0, 1]\n",
        "TN = cm1[0, 0]\n",
        "FN = cm1[1, 0]\n",
        "\n",
        "FPR = FP / (FP + TN)\n",
        "TPR = TP / (TP + FN)\n",
        "Precision = TP / (TP + FP)\n",
        "Recall = TPR"
      ],
      "metadata": {
        "id": "iNeUlGJPkSTh"
      },
      "execution_count": 96,
      "outputs": []
    },
    {
      "cell_type": "code",
      "source": [
        "test_prob_lr = new_lr.predict_proba(X_test)\n",
        "FPR, TPR, thresholds = roc_curve(y_test, test_prob_lr[:,1])"
      ],
      "metadata": {
        "id": "6k1qncT5kVK6"
      },
      "execution_count": 97,
      "outputs": []
    },
    {
      "cell_type": "code",
      "source": [
        "fig, ax = plt.subplots(1, 1, figsize=(12,8))\n",
        "\n",
        "ax.step(FPR, TPR, linewidth=2)\n",
        "ax.plot([0,1], [0,1], '--', color = 'black')\n",
        "\n",
        "fs = 12\n",
        "ax.set_xlabel('1 - Specificity = 1 - TNR = FPR', fontsize=fs)\n",
        "ax.set_ylabel('Sensitivity = TPR', fontsize=fs)\n",
        "ax.tick_params(axis='both', labelsize=fs)\n",
        "\n",
        "AUC = np.trapz(TPR, FPR)\n",
        "ax.set_title('AUC = ' + str(round(AUC,4)))\n",
        "plt.savefig('location_severe.png')"
      ],
      "metadata": {
        "colab": {
          "base_uri": "https://localhost:8080/",
          "height": 726
        },
        "id": "CsPSa-ClkZUC",
        "outputId": "9b7a30b2-2b55-414f-8ed9-f2e405b41556"
      },
      "execution_count": 98,
      "outputs": [
        {
          "output_type": "display_data",
          "data": {
            "text/plain": [
              "<Figure size 1200x800 with 1 Axes>"
            ],
            "image/png": "[encoded data removed]"
          },
          "metadata": {}
        }
      ]
    },
    {
      "cell_type": "code",
      "source": [
        "from sklearn.model_selection import train_test_split\n",
        "\n",
        "X_train2, X_test2, y_train2, y_test2 = train_test_split(second, more_reduced[['Very Severe Force Used']], test_size=.2, random_state=55)"
      ],
      "metadata": {
        "id": "RzN1VLc0koXf"
      },
      "execution_count": 99,
      "outputs": []
    },
    {
      "cell_type": "code",
      "source": [
        "cont_vars = X_train2[[\"Hour\", \"B-Poverty Rate\", \"B-Black Pop Rate\", \"B-Hispanic Pop Rate\", \"B-Violent Arrests per 100k\", \"P-Poverty Rate\",\n",
        "                    \"P-Black Pop Rate\", \"P-Hispanic Pop Rate\", \"P-Violent Arrests per 100k\", \"Individual Age\"]]"
      ],
      "metadata": {
        "id": "P59OUkSak1ib"
      },
      "execution_count": 100,
      "outputs": []
    },
    {
      "cell_type": "code",
      "source": [
        "from sklearn.preprocessing import StandardScaler\n",
        "\n",
        "std_scaler = StandardScaler()\n",
        "\n",
        "X_train_subset = cont_vars\n",
        "X_train_scaled = std_scaler.fit_transform(X_train_subset)\n",
        "\n",
        "X_train_subset_std_scaled = std_scaler.fit_transform(X_train_subset)\n",
        "\n",
        "X_train2[[\"Hour\", \"B-Poverty Rate\", \"B-Black Pop Rate\", \"B-Hispanic Pop Rate\", \"B-Violent Arrests per 100k\", \"P-Poverty Rate\",\n",
        "                    \"P-Black Pop Rate\", \"P-Hispanic Pop Rate\", \"P-Violent Arrests per 100k\", \"Individual Age\"]] = pd.DataFrame(X_train_subset_std_scaled, columns = X_train_subset.columns,index = X_train_subset.index)"
      ],
      "metadata": {
        "id": "NTTvoUNVlBxV"
      },
      "execution_count": 101,
      "outputs": []
    },
    {
      "cell_type": "code",
      "source": [
        "X_test_subset = X_test2[[\"Hour\", \"B-Poverty Rate\", \"B-Black Pop Rate\", \"B-Hispanic Pop Rate\", \"B-Violent Arrests per 100k\", \"P-Poverty Rate\",\n",
        "                    \"P-Black Pop Rate\", \"P-Hispanic Pop Rate\", \"P-Violent Arrests per 100k\", \"Individual Age\"]]\n",
        "\n",
        "X_test_subset_std_scaled = std_scaler.transform(X_test_subset)\n",
        "\n",
        "X_test2[[\"Hour\", \"B-Poverty Rate\", \"B-Black Pop Rate\", \"B-Hispanic Pop Rate\", \"B-Violent Arrests per 100k\", \"P-Poverty Rate\",\n",
        "                    \"P-Black Pop Rate\", \"P-Hispanic Pop Rate\", \"P-Violent Arrests per 100k\", \"Individual Age\"]] = pd.DataFrame(X_test_subset_std_scaled, columns = X_test_subset.columns, index = X_test_subset.index)"
      ],
      "metadata": {
        "id": "HAWMm5R6lGii"
      },
      "execution_count": 102,
      "outputs": []
    },
    {
      "cell_type": "code",
      "source": [
        "y_train2 = np.ravel(y_train2)\n",
        "y_test2 = np.ravel(y_test2)"
      ],
      "metadata": {
        "id": "i1TvjBi6lJoe"
      },
      "execution_count": 103,
      "outputs": []
    },
    {
      "cell_type": "code",
      "source": [
        "lr_severe_first = LogisticRegression(random_state=55, penalty='l2', max_iter=1000)\n",
        "lr_severe_first.fit(X_train2, y_train2)\n",
        "y_pred_severe = lr_severe_first.predict(X_train2)"
      ],
      "metadata": {
        "id": "smTZMj9PlMvP"
      },
      "execution_count": 104,
      "outputs": []
    },
    {
      "cell_type": "code",
      "source": [
        "accuracy_score(y_train2, y_pred_severe)"
      ],
      "metadata": {
        "colab": {
          "base_uri": "https://localhost:8080/"
        },
        "id": "wp6rh9MHlPwD",
        "outputId": "ee59fbfe-2c01-4002-b7c1-6865a0406c3f"
      },
      "execution_count": 105,
      "outputs": [
        {
          "output_type": "execute_result",
          "data": {
            "text/plain": [
              "0.7599131693198263"
            ]
          },
          "metadata": {},
          "execution_count": 105
        }
      ]
    },
    {
      "cell_type": "code",
      "source": [
        "severe_cval = cross_val_score(lr_severe_first, X_train2, y_train2, scoring=\"accuracy\", cv=10)\n",
        "print(severe_cval)\n",
        "print(severe_cval.mean())"
      ],
      "metadata": {
        "colab": {
          "base_uri": "https://localhost:8080/"
        },
        "id": "7RBwkuQilQNV",
        "outputId": "9b3902c4-69b7-486e-e091-7381a595d672"
      },
      "execution_count": 106,
      "outputs": [
        {
          "output_type": "stream",
          "name": "stdout",
          "text": [
            "[0.75253256 0.73516643 0.75397974 0.74963821 0.75253256 0.75253256\n",
            " 0.75397974 0.74819103 0.75397974 0.75832127]\n",
            "0.7510853835021708\n"
          ]
        }
      ]
    },
    {
      "cell_type": "code",
      "source": [
        "lr_severe_first2 = LogisticRegression(random_state=55, penalty='l2', max_iter=1000)\n",
        "\n",
        "grid_severe2 = GridSearchCV(lr_severe_first2, params2, cv=10)\n",
        "grid_severe2.fit(X_train2, y_train2)"
      ],
      "metadata": {
        "colab": {
          "base_uri": "https://localhost:8080/",
          "height": 118
        },
        "id": "rDbwtC4nlWFF",
        "outputId": "8d45cdf2-5b08-44da-e8f9-39345539b63a"
      },
      "execution_count": 107,
      "outputs": [
        {
          "output_type": "execute_result",
          "data": {
            "text/plain": [
              "GridSearchCV(cv=10,\n",
              "             estimator=LogisticRegression(max_iter=1000, random_state=55),\n",
              "             param_grid={'C': [0.01, 0.05, 0.1, 0.5, 1, 2, 5, 10]})"
            ],
            "text/html": [
              "<style>#sk-container-id-4 {color: black;background-color: white;}#sk-container-id-4 pre{padding: 0;}#sk-container-id-4 div.sk-toggleable {background-color: white;}#sk-container-id-4 label.sk-toggleable__label {cursor: pointer;display: block;width: 100%;margin-bottom: 0;padding: 0.3em;box-sizing: border-box;text-align: center;}#sk-container-id-4 label.sk-toggleable__label-arrow:before {content: \"▸\";float: left;margin-right: 0.25em;color: #696969;}#sk-container-id-4 label.sk-toggleable__label-arrow:hover:before {color: black;}#sk-container-id-4 div.sk-estimator:hover label.sk-toggleable__label-arrow:before {color: black;}#sk-container-id-4 div.sk-toggleable__content {max-height: 0;max-width: 0;overflow: hidden;text-align: left;background-color: #f0f8ff;}#sk-container-id-4 div.sk-toggleable__content pre {margin: 0.2em;color: black;border-radius: 0.25em;background-color: #f0f8ff;}#sk-container-id-4 input.sk-toggleable__control:checked~div.sk-toggleable__content {max-height: 200px;max-width: 100%;overflow: auto;}#sk-container-id-4 input.sk-toggleable__control:checked~label.sk-toggleable__label-arrow:before {content: \"▾\";}#sk-container-id-4 div.sk-estimator input.sk-toggleable__control:checked~label.sk-toggleable__label {background-color: #d4ebff;}#sk-container-id-4 div.sk-label input.sk-toggleable__control:checked~label.sk-toggleable__label {background-color: #d4ebff;}#sk-container-id-4 input.sk-hidden--visually {border: 0;clip: rect(1px 1px 1px 1px);clip: rect(1px, 1px, 1px, 1px);height: 1px;margin: -1px;overflow: hidden;padding: 0;position: absolute;width: 1px;}#sk-container-id-4 div.sk-estimator {font-family: monospace;background-color: #f0f8ff;border: 1px dotted black;border-radius: 0.25em;box-sizing: border-box;margin-bottom: 0.5em;}#sk-container-id-4 div.sk-estimator:hover {background-color: #d4ebff;}#sk-container-id-4 div.sk-parallel-item::after {content: \"\";width: 100%;border-bottom: 1px solid gray;flex-grow: 1;}#sk-container-id-4 div.sk-label:hover label.sk-toggleable__label {background-color: #d4ebff;}#sk-container-id-4 div.sk-serial::before {content: \"\";position: absolute;border-left: 1px solid gray;box-sizing: border-box;top: 0;bottom: 0;left: 50%;z-index: 0;}#sk-container-id-4 div.sk-serial {display: flex;flex-direction: column;align-items: center;background-color: white;padding-right: 0.2em;padding-left: 0.2em;position: relative;}#sk-container-id-4 div.sk-item {position: relative;z-index: 1;}#sk-container-id-4 div.sk-parallel {display: flex;align-items: stretch;justify-content: center;background-color: white;position: relative;}#sk-container-id-4 div.sk-item::before, #sk-container-id-4 div.sk-parallel-item::before {content: \"\";position: absolute;border-left: 1px solid gray;box-sizing: border-box;top: 0;bottom: 0;left: 50%;z-index: -1;}#sk-container-id-4 div.sk-parallel-item {display: flex;flex-direction: column;z-index: 1;position: relative;background-color: white;}#sk-container-id-4 div.sk-parallel-item:first-child::after {align-self: flex-end;width: 50%;}#sk-container-id-4 div.sk-parallel-item:last-child::after {align-self: flex-start;width: 50%;}#sk-container-id-4 div.sk-parallel-item:only-child::after {width: 0;}#sk-container-id-4 div.sk-dashed-wrapped {border: 1px dashed gray;margin: 0 0.4em 0.5em 0.4em;box-sizing: border-box;padding-bottom: 0.4em;background-color: white;}#sk-container-id-4 div.sk-label label {font-family: monospace;font-weight: bold;display: inline-block;line-height: 1.2em;}#sk-container-id-4 div.sk-label-container {text-align: center;}#sk-container-id-4 div.sk-container {/* jupyter's `normalize.less` sets `[hidden] { display: none; }` but bootstrap.min.css set `[hidden] { display: none !important; }` so we also need the `!important` here to be able to override the default hidden behavior on the sphinx rendered scikit-learn.org. See: https://github.com/scikit-learn/scikit-learn/issues/21755 */display: inline-block !important;position: relative;}#sk-container-id-4 div.sk-text-repr-fallback {display: none;}</style><div id=\"sk-container-id-4\" class=\"sk-top-container\"><div class=\"sk-text-repr-fallback\"><pre>GridSearchCV(cv=10,\n",
              "             estimator=LogisticRegression(max_iter=1000, random_state=55),\n",
              "             param_grid={&#x27;C&#x27;: [0.01, 0.05, 0.1, 0.5, 1, 2, 5, 10]})</pre><b>In a Jupyter environment, please rerun this cell to show the HTML representation or trust the notebook. <br />On GitHub, the HTML representation is unable to render, please try loading this page with nbviewer.org.</b></div><div class=\"sk-container\" hidden><div class=\"sk-item sk-dashed-wrapped\"><div class=\"sk-label-container\"><div class=\"sk-label sk-toggleable\"><input class=\"sk-toggleable__control sk-hidden--visually\" id=\"sk-estimator-id-10\" type=\"checkbox\" ><label for=\"sk-estimator-id-10\" class=\"sk-toggleable__label sk-toggleable__label-arrow\">GridSearchCV</label><div class=\"sk-toggleable__content\"><pre>GridSearchCV(cv=10,\n",
              "             estimator=LogisticRegression(max_iter=1000, random_state=55),\n",
              "             param_grid={&#x27;C&#x27;: [0.01, 0.05, 0.1, 0.5, 1, 2, 5, 10]})</pre></div></div></div><div class=\"sk-parallel\"><div class=\"sk-parallel-item\"><div class=\"sk-item\"><div class=\"sk-label-container\"><div class=\"sk-label sk-toggleable\"><input class=\"sk-toggleable__control sk-hidden--visually\" id=\"sk-estimator-id-11\" type=\"checkbox\" ><label for=\"sk-estimator-id-11\" class=\"sk-toggleable__label sk-toggleable__label-arrow\">estimator: LogisticRegression</label><div class=\"sk-toggleable__content\"><pre>LogisticRegression(max_iter=1000, random_state=55)</pre></div></div></div><div class=\"sk-serial\"><div class=\"sk-item\"><div class=\"sk-estimator sk-toggleable\"><input class=\"sk-toggleable__control sk-hidden--visually\" id=\"sk-estimator-id-12\" type=\"checkbox\" ><label for=\"sk-estimator-id-12\" class=\"sk-toggleable__label sk-toggleable__label-arrow\">LogisticRegression</label><div class=\"sk-toggleable__content\"><pre>LogisticRegression(max_iter=1000, random_state=55)</pre></div></div></div></div></div></div></div></div></div></div>"
            ]
          },
          "metadata": {},
          "execution_count": 107
        }
      ]
    },
    {
      "cell_type": "code",
      "source": [
        "print(grid_severe2.best_params_)"
      ],
      "metadata": {
        "colab": {
          "base_uri": "https://localhost:8080/"
        },
        "id": "LejcBwSilZAl",
        "outputId": "4909d3e0-96d7-411c-d190-15dfb7dbf1f3"
      },
      "execution_count": 108,
      "outputs": [
        {
          "output_type": "stream",
          "name": "stdout",
          "text": [
            "{'C': 0.1}\n"
          ]
        }
      ]
    },
    {
      "cell_type": "code",
      "source": [
        "plt.plot(params2['C'], grid_severe2.cv_results_['mean_test_score'])\n",
        "\n",
        "plt.xlabel('C value')\n",
        "plt.ylabel('Accuracy')"
      ],
      "metadata": {
        "colab": {
          "base_uri": "https://localhost:8080/",
          "height": 466
        },
        "id": "qi1FXztAlZZ9",
        "outputId": "c3939578-5e15-4e84-8c74-c4e39e3b8637"
      },
      "execution_count": 109,
      "outputs": [
        {
          "output_type": "execute_result",
          "data": {
            "text/plain": [
              "Text(0, 0.5, 'Accuracy')"
            ]
          },
          "metadata": {},
          "execution_count": 109
        },
        {
          "output_type": "display_data",
          "data": {
            "text/plain": [
              "<Figure size 640x480 with 1 Axes>"
            ],
            "image/png": "[encoded data removed]"
          },
          "metadata": {}
        }
      ]
    },
    {
      "cell_type": "code",
      "source": [
        "new_lr2 = grid_severe2.best_estimator_\n",
        "y_pred_new3 = new_lr2.predict(X_train2)\n",
        "\n",
        "accuracy3 = accuracy_score(y_train2, y_pred_new3)\n",
        "print(accuracy3)"
      ],
      "metadata": {
        "colab": {
          "base_uri": "https://localhost:8080/"
        },
        "id": "fiheXdfHleRj",
        "outputId": "d4c68e10-e45b-4091-b1ea-8e171bb4a178"
      },
      "execution_count": 110,
      "outputs": [
        {
          "output_type": "stream",
          "name": "stdout",
          "text": [
            "0.7571635311143271\n"
          ]
        }
      ]
    },
    {
      "cell_type": "code",
      "source": [
        "cm = confusion_matrix(y_train2, y_pred_new3)\n",
        "print(cm)"
      ],
      "metadata": {
        "colab": {
          "base_uri": "https://localhost:8080/"
        },
        "id": "_I9vRw0HlhpN",
        "outputId": "12ec0e3f-c02f-415a-90f1-be25928f574d"
      },
      "execution_count": 111,
      "outputs": [
        {
          "output_type": "stream",
          "name": "stdout",
          "text": [
            "[[4824  263]\n",
            " [1415  408]]\n"
          ]
        }
      ]
    },
    {
      "cell_type": "code",
      "source": [
        "coefs = new_lr2.coef_[0]\n",
        "\n",
        "coef_values = list(zip(X_train.columns, coefs))\n",
        "sorted_coefs = sorted(coef_values, key=lambda x: abs(x[1]), reverse=True)\n",
        "\n",
        "\n",
        "for vars, coefs in sorted_coefs:\n",
        "    print(str(vars) + \", \" + str(round(coefs,4)))"
      ],
      "metadata": {
        "colab": {
          "base_uri": "https://localhost:8080/"
        },
        "id": "Pa3B4MkUlkQn",
        "outputId": "cb3c92a4-3609-408e-ddf3-0a091f7ee70d"
      },
      "execution_count": 112,
      "outputs": [
        {
          "output_type": "stream",
          "name": "stdout",
          "text": [
            "Individual Resistance -Active Aggression, 1.0943\n",
            "Individual Resistance - Aggravated Active Aggression, 0.8613\n",
            "Individual Armed With -Gun, 0.7345\n",
            "Individual Armed with - Cutting Instrument, -0.5533\n",
            "Police Beat_411, -0.4413\n",
            "Year_2018, 0.4397\n",
            "Individual Armed With - Blunt Instrument, -0.4128\n",
            "Police Beat_591, -0.4113\n",
            "Police Beat_625, 0.4021\n",
            "Police Beat_726, -0.381\n",
            "Year_2023, -0.3751\n",
            "Police Beat_434, -0.3639\n",
            "Police Beat_424, 0.3518\n",
            "Police Beat_634, -0.3378\n",
            "Police Beat_514, 0.3332\n",
            "Police Beat_832, -0.3144\n",
            "Police Beat_714, 0.3134\n",
            "Police Beat_834, -0.3124\n",
            "Police Beat_632, 0.2996\n",
            "Police Beat_213, -0.2968\n",
            "Individual Armed With - No Weapon, -0.2956\n",
            "Police Beat_711, 0.2854\n",
            "Police Beat_814, 0.2848\n",
            "Individual Gender_Female, -0.2833\n",
            "Individual Resistance -Passive Resistance, -0.281\n",
            "Police Beat_623, 0.2786\n",
            "Police Beat_823, 0.2756\n",
            "Police Beat_931, -0.2737\n",
            "Year_2021, -0.273\n",
            "Police Beat_925, -0.2725\n",
            "Police Beat_732, -0.2688\n",
            "Police Beat_731, 0.2653\n",
            "Police Beat_923, 0.2491\n",
            "is Cactus Park Precinct, 0.241\n",
            "Police Beat_613, -0.2383\n",
            "Police Beat_614, -0.2344\n",
            "Year_2022, -0.2269\n",
            "Police Beat_912, -0.2218\n",
            "Individual Resistance -Verbal Non Compliance, -0.2139\n",
            "P-Hispanic Pop Rate, 0.2139\n",
            "Police Beat_712, -0.2133\n",
            "Police Beat_715, 0.2109\n",
            "Police Beat_423, 0.205\n",
            "Police Beat_232, -0.1998\n",
            "Police Beat_922, 0.1984\n",
            "Police Beat_515, 0.1924\n",
            "Police Beat_913, 0.192\n",
            "Individual Gender_Male, 0.1916\n",
            "Year_2019, 0.1878\n",
            "Police Beat_833, -0.1872\n",
            "Police Beat_214, 0.1868\n",
            "Police Beat_624, 0.1868\n",
            "Police Beat_612, -0.1848\n",
            "Individual Resistance -Psychological Intimidation, -0.1811\n",
            "Year_2020, 0.174\n",
            "Police Beat_813, 0.1739\n",
            "Police Beat_425, 0.1707\n",
            "Police Employee Race / Ethnicity Grouping_Other, 0.1663\n",
            "Police Beat_933, -0.1656\n",
            "Police Beat_821, 0.16\n",
            "Police Beat_413, -0.1569\n",
            "Police Beat_512, -0.1537\n",
            "Police Beat_734, -0.1512\n",
            "Police Beat_234, -0.1493\n",
            "Police Beat_736, -0.147\n",
            "Police Beat_911, 0.1427\n",
            "Police Beat_224, 0.1387\n",
            "Police Beat_432, 0.1375\n",
            "Police Beat_633, -0.1374\n",
            "is Desert Horizon Precinct, -0.1359\n",
            "Police Beat_422, 0.1336\n",
            "Police Beat_631, -0.132\n",
            "Police Beat_421, -0.1311\n",
            "P-Black Pop Rate, -0.1266\n",
            "B-Hispanic Pop Rate, 0.1205\n",
            "Day of Week_3-TUESDAY, 0.119\n",
            "Police Beat_513, -0.1183\n",
            "Police Beat_433, 0.1166\n",
            "Police Beat_231, -0.1156\n",
            "Police Beat_831, -0.1141\n",
            "is Black Mountain Precinct, -0.1101\n",
            "Police Beat_223, 0.1084\n",
            "Individual Race / Ethnicity Grouping_Black or African American, -0.1078\n",
            "Police Beat_815, -0.107\n",
            "Police Beat_724, 0.1045\n",
            "Police Beat_611, -0.1032\n",
            "Police Beat_924, -0.1027\n",
            "Police Beat_735, 0.1026\n",
            "Police Employee Race / Ethnicity Grouping_Hispanic, -0.098\n",
            "Police Beat_221, 0.0947\n",
            "Police Beat_811, 0.0945\n",
            "Police Beat_824, 0.0931\n",
            "Individual Gender_Unknown, 0.0907\n",
            "Police Beat_921, 0.0899\n",
            "Police Beat_621, 0.0852\n",
            "Police Beat_722, -0.0832\n",
            "Police Employee Gender / Sex_Female, -0.0802\n",
            "Police Employee Gender / Sex_Male, 0.0793\n",
            "Police Beat_212, 0.0787\n",
            "Hour, 0.0772\n",
            "Individual Age, -0.0768\n",
            "Individual Resistance -Active Resistance, 0.0742\n",
            "Day of Week_5-THURSDAY, -0.0741\n",
            "Year_2017, 0.0726\n",
            "Police Beat_914, -0.0702\n",
            "Police Employee Race / Ethnicity Grouping_White, -0.0678\n",
            "Police Beat_414, 0.0651\n",
            "Police Beat_822, 0.0628\n",
            "Police Beat_615, -0.0621\n",
            "P-Violent Arrests per 100k, -0.0604\n",
            "Police Beat_511, 0.0587\n",
            "B-Violent Arrests per 100k, 0.0571\n",
            "is Central City Precinct, -0.0566\n",
            "Day of Week_2-MONDAY, -0.0554\n",
            "Day of Week_1-SUNDAY, 0.0534\n",
            "Police Beat_812, -0.0521\n",
            "Individual Race / Ethnicity Grouping_Hispanic, 0.0515\n",
            "Police Beat_723, -0.0508\n",
            "Police Beat_211, 0.0504\n",
            "Police Beat_932, 0.0495\n",
            "Individual Race / Ethnicity Grouping_White, 0.0478\n",
            "Police Beat_733, -0.043\n",
            "Police Beat_516, 0.0424\n",
            "Police Beat_622, 0.0418\n",
            "Police Beat_233, -0.0416\n",
            "Individual Armed With - Other, 0.0399\n",
            "Day of Week_7-SATURDAY, -0.0386\n",
            "Police Beat_412, -0.0364\n",
            "Police Beat_222, 0.0355\n",
            "Police Beat_825, -0.0348\n",
            "Police Beat_713, 0.0321\n",
            "Day of Week_4-WEDNESSDAY, 0.031\n",
            "is South Mountain Precinct, 0.0298\n",
            "P-Poverty Rate, 0.0242\n",
            "Day of Week_4-WEDNESDAY, -0.0234\n",
            "is Maryvale/Estrella Precinct, 0.0228\n",
            "Police Beat_721, 0.0212\n",
            "B-Black Pop Rate, -0.0208\n",
            "B-Poverty Rate, -0.016\n",
            "Day of Week_6-FRIDAY, -0.0129\n",
            "Police Beat_431, -0.012\n",
            "Police Beat_725, 0.011\n",
            "Police Beat_435, -0.0089\n",
            "Police Beat_915, 0.0084\n",
            "is Mountain View Precinct, 0.008\n",
            "Individual Race / Ethnicity Grouping_Other, 0.0075\n",
            "Police Employee Race / Ethnicity Grouping_Black or African American, -0.0014\n",
            "Individual Resistance - None, 0.0\n"
          ]
        }
      ]
    },
    {
      "cell_type": "code",
      "source": [
        "y_pred_last2 = new_lr2.predict(X_test2)\n",
        "accuracy_last2 = accuracy_score(y_test2, y_pred_last2)\n",
        "\n",
        "print(accuracy_last2)"
      ],
      "metadata": {
        "colab": {
          "base_uri": "https://localhost:8080/"
        },
        "id": "lRlyqnsjlkvl",
        "outputId": "b9076dce-5887-4a3b-e52a-525c48c6accf"
      },
      "execution_count": 113,
      "outputs": [
        {
          "output_type": "stream",
          "name": "stdout",
          "text": [
            "0.7390046296296297\n"
          ]
        }
      ]
    },
    {
      "cell_type": "code",
      "source": [
        "cm2 = confusion_matrix(y_test2, y_pred_last2)\n",
        "print(cm2)"
      ],
      "metadata": {
        "colab": {
          "base_uri": "https://localhost:8080/"
        },
        "id": "BE7BahB_lqD0",
        "outputId": "eecad89b-bcd2-4377-d71f-790bd8ba0586"
      },
      "execution_count": 114,
      "outputs": [
        {
          "output_type": "stream",
          "name": "stdout",
          "text": [
            "[[1190   76]\n",
            " [ 375   87]]\n"
          ]
        }
      ]
    },
    {
      "cell_type": "code",
      "source": [
        "TP = cm2[1, 1]\n",
        "FP = cm2[0, 1]\n",
        "TN = cm2[0, 0]\n",
        "FN = cm2[1, 0]\n",
        "\n",
        "FPR = FP / (FP + TN)\n",
        "TPR = TP / (TP + FN)\n",
        "Precision = TP / (TP + FP)\n",
        "Recall = TPR"
      ],
      "metadata": {
        "id": "19vMWlXHlsZo"
      },
      "execution_count": 115,
      "outputs": []
    },
    {
      "cell_type": "code",
      "source": [
        "test_prob_lr = new_lr2.predict_proba(X_test2)\n",
        "FPR, TPR, thresholds = roc_curve(y_test2, test_prob_lr[:,1])"
      ],
      "metadata": {
        "id": "oeskwZcalv1s"
      },
      "execution_count": 116,
      "outputs": []
    },
    {
      "cell_type": "code",
      "source": [
        "fig, ax = plt.subplots(1, 1, figsize=(12,8))\n",
        "\n",
        "ax.step(FPR, TPR, linewidth=2)\n",
        "ax.plot([0,1], [0,1], '--', color = 'black')\n",
        "\n",
        "fs = 12\n",
        "ax.set_xlabel('1 - Specificity = 1 - TNR = FPR', fontsize=fs)\n",
        "ax.set_ylabel('Sensitivity = TPR', fontsize=fs)\n",
        "ax.tick_params(axis='both', labelsize=fs)\n",
        "\n",
        "AUC = np.trapz(TPR, FPR)\n",
        "ax.set_title('AUC = ' + str(round(AUC,4)))\n",
        "plt.savefig('location_very_severe.png')"
      ],
      "metadata": {
        "colab": {
          "base_uri": "https://localhost:8080/",
          "height": 726
        },
        "id": "1RIK9R-IlzOF",
        "outputId": "7cef031a-2d6a-4e51-d0d6-e9156f29b2c1"
      },
      "execution_count": 118,
      "outputs": [
        {
          "output_type": "display_data",
          "data": {
            "text/plain": [
              "<Figure size 1200x800 with 1 Axes>"
            ],
            "image/png": "[encoded data removed]"
          },
          "metadata": {}
        }
      ]
    }
  ]
}